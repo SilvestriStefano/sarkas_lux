{
 "cells": [
  {
   "cell_type": "markdown",
   "id": "forced-steel",
   "metadata": {},
   "source": [
    "# Timing Notebook"
   ]
  },
  {
   "cell_type": "code",
   "execution_count": 1,
   "id": "waiting-affiliation",
   "metadata": {},
   "outputs": [
    {
     "name": "stdout",
     "output_type": "stream",
     "text": [
      "Using matplotlib backend: TkAgg\n",
      "Populating the interactive namespace from numpy and matplotlib\n"
     ]
    }
   ],
   "source": [
    "# Import the usual libraries\n",
    "%pylab\n",
    "%matplotlib inline\n",
    "import os\n",
    "plt.style.use('PUBstyle')\n",
    "# Import sarkas\n",
    "from sarkas.processes import Simulation, PostProcess, PreProcess\n",
    "from sarkas.tools.transport import TransportCoefficient\n",
    "from scipy.optimize import curve_fit\n",
    "\n",
    "\n",
    "# Create the file path to the YAML input file\n",
    "example_directory = os.path.join('..',\n",
    "                                 os.path.join('sarkas',\n",
    "                                              os.path.join('examples', 'Timing')))\n",
    "\n",
    "input_file_names = [\n",
    "    'ocp_N10k.yaml',\n",
    "    'ocp_N20k.yaml',\n",
    "    'ocp_N50k.yaml',\n",
    "    'ocp_N100k.yaml',\n",
    "    'ocp_N200k.yaml',\n",
    "    'ocp_N500k.yaml',\n",
    "    'ocp_N1000k.yaml',\n",
    "] \n",
    "\n",
    "ptcls_num = np.array([10000, 20000, 50000, 100000, 200000, 500000, 1000000])\n",
    "mean_pp_times = np.zeros(len(input_file_names) )\n",
    "mean_pm_times = np.zeros(len(input_file_names) )\n",
    "std_pp_times = np.zeros(len(input_file_names) )\n",
    "std_pm_times = np.zeros(len(input_file_names) )\n",
    "\n"
   ]
  },
  {
   "cell_type": "code",
   "execution_count": 2,
   "id": "grand-advocate",
   "metadata": {
    "scrolled": false
   },
   "outputs": [
    {
     "name": "stdout",
     "output_type": "stream",
     "text": [
      "\n",
      "Figures can be found in Simulations/ocp_n10k_slow/PreProcessing/PPPM_Plots/Mesh_32/Cells_5\n",
      "Mean PP Times: 5.260791e+10\n",
      "Mean PM Times: 3.284371e+10\n",
      "ocp_N10k.yaml  Done\n",
      "\n",
      "Figures can be found in Simulations/ocp_n20k_slow/PreProcessing/PPPM_Plots/Mesh_32/Cells_7\n",
      "Mean PP Times: 7.673028e+10\n",
      "Mean PM Times: 6.353055e+10\n",
      "ocp_N20k.yaml  Done\n",
      "\n",
      "Figures can be found in Simulations/ocp_n50k_slow/PreProcessing/PPPM_Plots/Mesh_32/Cells_9\n",
      "Mean PP Times: 2.315224e+11\n",
      "Mean PM Times: 1.639879e+11\n",
      "ocp_N50k.yaml  Done\n",
      "\n",
      "Figures can be found in Simulations/ocp_n100k_slow/PreProcessing/PPPM_Plots/Mesh_32/Cells_11\n",
      "Mean PP Times: 4.717860e+11\n",
      "Mean PM Times: 3.284689e+11\n",
      "ocp_N100k.yaml  Done\n",
      "\n",
      "Figures can be found in Simulations/ocp_n200k_slow/PreProcessing/PPPM_Plots/Mesh_32/Cells_15\n",
      "Mean PP Times: 7.714762e+11\n",
      "Mean PM Times: 6.464249e+11\n",
      "ocp_N200k.yaml  Done\n",
      "\n",
      "Figures can be found in Simulations/ocp_n500k_slow/PreProcessing/PPPM_Plots/Mesh_32/Cells_20\n",
      "Mean PP Times: 2.068121e+12\n",
      "Mean PM Times: 1.640174e+12\n",
      "ocp_N500k.yaml  Done\n"
     ]
    },
    {
     "ename": "KeyboardInterrupt",
     "evalue": "",
     "output_type": "error",
     "traceback": [
      "\u001b[0;31m---------------------------------------------------------------------------\u001b[0m",
      "\u001b[0;31mKeyboardInterrupt\u001b[0m                         Traceback (most recent call last)",
      "\u001b[0;32m<ipython-input-2-32c372081d19>\u001b[0m in \u001b[0;36m<module>\u001b[0;34m\u001b[0m\n\u001b[1;32m     10\u001b[0m \u001b[0;31m#         timing_study = True,\u001b[0m\u001b[0;34m\u001b[0m\u001b[0;34m\u001b[0m\u001b[0;34m\u001b[0m\u001b[0m\n\u001b[1;32m     11\u001b[0m \u001b[0;31m#         postprocessing=True,\u001b[0m\u001b[0;34m\u001b[0m\u001b[0;34m\u001b[0m\u001b[0;34m\u001b[0m\u001b[0m\n\u001b[0;32m---> 12\u001b[0;31m         \u001b[0mremove\u001b[0m \u001b[0;34m=\u001b[0m \u001b[0;32mTrue\u001b[0m\u001b[0;34m,\u001b[0m \u001b[0;31m# Save some space.\u001b[0m\u001b[0;34m\u001b[0m\u001b[0;34m\u001b[0m\u001b[0m\n\u001b[0m\u001b[1;32m     13\u001b[0m                )\n\u001b[1;32m     14\u001b[0m \u001b[0;31m#     print(\"{}\".format(preproc.parameters.box_lengths[0]/preproc.potential.rc) )\u001b[0m\u001b[0;34m\u001b[0m\u001b[0;34m\u001b[0m\u001b[0;34m\u001b[0m\u001b[0m\n",
      "\u001b[0;32m~/Documents/Programming/sarkas/sarkas/processes.py\u001b[0m in \u001b[0;36mrun\u001b[0;34m(self, loops, timing, timing_study, pppm_estimate, postprocessing, remove)\u001b[0m\n\u001b[1;32m    463\u001b[0m                 \u001b[0;31m# TODO: Complete the case of PP-only force calculation\u001b[0m\u001b[0;34m\u001b[0m\u001b[0;34m\u001b[0m\u001b[0;34m\u001b[0m\u001b[0m\n\u001b[1;32m    464\u001b[0m                 \u001b[0mtotal_force_error\u001b[0m\u001b[0;34m,\u001b[0m \u001b[0mrcuts\u001b[0m \u001b[0;34m=\u001b[0m \u001b[0mself\u001b[0m\u001b[0;34m.\u001b[0m\u001b[0manalytical_approx_pp\u001b[0m\u001b[0;34m(\u001b[0m\u001b[0;34m)\u001b[0m\u001b[0;34m\u001b[0m\u001b[0;34m\u001b[0m\u001b[0m\n\u001b[0;32m--> 465\u001b[0;31m \u001b[0;34m\u001b[0m\u001b[0m\n\u001b[0m\u001b[1;32m    466\u001b[0m             \u001b[0mself\u001b[0m\u001b[0;34m.\u001b[0m\u001b[0mtime_acceleration\u001b[0m\u001b[0;34m(\u001b[0m\u001b[0;34m)\u001b[0m\u001b[0;34m\u001b[0m\u001b[0;34m\u001b[0m\u001b[0m\n\u001b[1;32m    467\u001b[0m             \u001b[0mself\u001b[0m\u001b[0;34m.\u001b[0m\u001b[0mtime_integrator_loop\u001b[0m\u001b[0;34m(\u001b[0m\u001b[0;34m)\u001b[0m\u001b[0;34m\u001b[0m\u001b[0;34m\u001b[0m\u001b[0m\n",
      "\u001b[0;32m~/Documents/Programming/sarkas/sarkas/processes.py\u001b[0m in \u001b[0;36mtime_integrator_loop\u001b[0;34m(self)\u001b[0m\n\u001b[1;32m    805\u001b[0m         \u001b[0;34m\"\"\"Run several loops of the equilibration and production phase to estimate the total time of the simulation.\"\"\"\u001b[0m\u001b[0;34m\u001b[0m\u001b[0;34m\u001b[0m\u001b[0m\n\u001b[1;32m    806\u001b[0m         \u001b[0;32mif\u001b[0m \u001b[0mself\u001b[0m\u001b[0;34m.\u001b[0m\u001b[0mparameters\u001b[0m\u001b[0;34m.\u001b[0m\u001b[0melectrostatic_equilibration\u001b[0m\u001b[0;34m:\u001b[0m\u001b[0;34m\u001b[0m\u001b[0;34m\u001b[0m\u001b[0m\n\u001b[0;32m--> 807\u001b[0;31m             \u001b[0;31m# Save the original number of timesteps\u001b[0m\u001b[0;34m\u001b[0m\u001b[0;34m\u001b[0m\u001b[0;34m\u001b[0m\u001b[0m\n\u001b[0m\u001b[1;32m    808\u001b[0m             steps = np.array([self.integrator.equilibration_steps,\n\u001b[1;32m    809\u001b[0m                               \u001b[0mself\u001b[0m\u001b[0;34m.\u001b[0m\u001b[0mintegrator\u001b[0m\u001b[0;34m.\u001b[0m\u001b[0mproduction_steps\u001b[0m\u001b[0;34m,\u001b[0m\u001b[0;34m\u001b[0m\u001b[0;34m\u001b[0m\u001b[0m\n",
      "\u001b[0;32m~/Documents/Programming/sarkas/sarkas/time_evolution/integrators.py\u001b[0m in \u001b[0;36mequilibrate\u001b[0;34m(self, it_start, ptcls, checkpoint)\u001b[0m\n\u001b[1;32m    265\u001b[0m         \u001b[0;32mfor\u001b[0m \u001b[0mit\u001b[0m \u001b[0;32min\u001b[0m \u001b[0mtqdm\u001b[0m\u001b[0;34m(\u001b[0m\u001b[0mrange\u001b[0m\u001b[0;34m(\u001b[0m\u001b[0mit_start\u001b[0m\u001b[0;34m,\u001b[0m \u001b[0mself\u001b[0m\u001b[0;34m.\u001b[0m\u001b[0mequilibration_steps\u001b[0m\u001b[0;34m)\u001b[0m\u001b[0;34m,\u001b[0m \u001b[0mdisable\u001b[0m\u001b[0;34m=\u001b[0m\u001b[0;32mnot\u001b[0m \u001b[0mself\u001b[0m\u001b[0;34m.\u001b[0m\u001b[0mverbose\u001b[0m\u001b[0;34m)\u001b[0m\u001b[0;34m:\u001b[0m\u001b[0;34m\u001b[0m\u001b[0;34m\u001b[0m\u001b[0m\n\u001b[1;32m    266\u001b[0m             \u001b[0;31m# Calculate the Potential energy and update particles' data\u001b[0m\u001b[0;34m\u001b[0m\u001b[0;34m\u001b[0m\u001b[0;34m\u001b[0m\u001b[0m\n\u001b[0;32m--> 267\u001b[0;31m             \u001b[0mself\u001b[0m\u001b[0;34m.\u001b[0m\u001b[0mupdate\u001b[0m\u001b[0;34m(\u001b[0m\u001b[0mptcls\u001b[0m\u001b[0;34m)\u001b[0m\u001b[0;34m\u001b[0m\u001b[0;34m\u001b[0m\u001b[0m\n\u001b[0m\u001b[1;32m    268\u001b[0m             \u001b[0;32mif\u001b[0m \u001b[0;34m(\u001b[0m\u001b[0mit\u001b[0m \u001b[0;34m+\u001b[0m \u001b[0;36m1\u001b[0m\u001b[0;34m)\u001b[0m \u001b[0;34m%\u001b[0m \u001b[0mself\u001b[0m\u001b[0;34m.\u001b[0m\u001b[0meq_dump_step\u001b[0m \u001b[0;34m==\u001b[0m \u001b[0;36m0\u001b[0m\u001b[0;34m:\u001b[0m\u001b[0;34m\u001b[0m\u001b[0;34m\u001b[0m\u001b[0m\n\u001b[1;32m    269\u001b[0m                 \u001b[0mcheckpoint\u001b[0m\u001b[0;34m.\u001b[0m\u001b[0mdump\u001b[0m\u001b[0;34m(\u001b[0m\u001b[0;34m'equilibration'\u001b[0m\u001b[0;34m,\u001b[0m \u001b[0mptcls\u001b[0m\u001b[0;34m,\u001b[0m \u001b[0mit\u001b[0m \u001b[0;34m+\u001b[0m \u001b[0;36m1\u001b[0m\u001b[0;34m)\u001b[0m\u001b[0;34m\u001b[0m\u001b[0;34m\u001b[0m\u001b[0m\n",
      "\u001b[0;32m~/Documents/Programming/sarkas/sarkas/time_evolution/integrators.py\u001b[0m in \u001b[0;36mverlet\u001b[0;34m(self, ptcls)\u001b[0m\n\u001b[1;32m    361\u001b[0m         \u001b[0menforce_pbc\u001b[0m\u001b[0;34m(\u001b[0m\u001b[0mptcls\u001b[0m\u001b[0;34m.\u001b[0m\u001b[0mpos\u001b[0m\u001b[0;34m,\u001b[0m \u001b[0mptcls\u001b[0m\u001b[0;34m.\u001b[0m\u001b[0mpbc_cntr\u001b[0m\u001b[0;34m,\u001b[0m \u001b[0mself\u001b[0m\u001b[0;34m.\u001b[0m\u001b[0mbox_lengths\u001b[0m\u001b[0;34m)\u001b[0m\u001b[0;34m\u001b[0m\u001b[0;34m\u001b[0m\u001b[0m\n\u001b[1;32m    362\u001b[0m         \u001b[0;31m# Compute total potential energy and acceleration for second half step velocity update\u001b[0m\u001b[0;34m\u001b[0m\u001b[0;34m\u001b[0m\u001b[0;34m\u001b[0m\u001b[0m\n\u001b[0;32m--> 363\u001b[0;31m         \u001b[0mself\u001b[0m\u001b[0;34m.\u001b[0m\u001b[0mupdate_accelerations\u001b[0m\u001b[0;34m(\u001b[0m\u001b[0mptcls\u001b[0m\u001b[0;34m)\u001b[0m\u001b[0;34m\u001b[0m\u001b[0;34m\u001b[0m\u001b[0m\n\u001b[0m\u001b[1;32m    364\u001b[0m \u001b[0;34m\u001b[0m\u001b[0m\n\u001b[1;32m    365\u001b[0m         \u001b[0;31m# Second half step velocity update\u001b[0m\u001b[0;34m\u001b[0m\u001b[0;34m\u001b[0m\u001b[0;34m\u001b[0m\u001b[0m\n",
      "\u001b[0;32m~/Documents/Programming/sarkas/sarkas/potentials/base.py\u001b[0m in \u001b[0;36mupdate_pppm\u001b[0;34m(self, ptcls)\u001b[0m\n\u001b[1;32m    374\u001b[0m \u001b[0;34m\u001b[0m\u001b[0m\n\u001b[1;32m    375\u001b[0m         \"\"\"\n\u001b[0;32m--> 376\u001b[0;31m         \u001b[0mself\u001b[0m\u001b[0;34m.\u001b[0m\u001b[0mupdate_linked_list\u001b[0m\u001b[0;34m(\u001b[0m\u001b[0mptcls\u001b[0m\u001b[0;34m)\u001b[0m\u001b[0;34m\u001b[0m\u001b[0;34m\u001b[0m\u001b[0m\n\u001b[0m\u001b[1;32m    377\u001b[0m         \u001b[0mself\u001b[0m\u001b[0;34m.\u001b[0m\u001b[0mupdate_pm\u001b[0m\u001b[0;34m(\u001b[0m\u001b[0mptcls\u001b[0m\u001b[0;34m)\u001b[0m\u001b[0;34m\u001b[0m\u001b[0;34m\u001b[0m\u001b[0m\n\u001b[1;32m    378\u001b[0m \u001b[0;34m\u001b[0m\u001b[0m\n",
      "\u001b[0;32m~/Documents/Programming/sarkas/sarkas/potentials/base.py\u001b[0m in \u001b[0;36mupdate_linked_list\u001b[0;34m(self, ptcls)\u001b[0m\n\u001b[1;32m    315\u001b[0m         ptcls.potential_energy, ptcls.acc = force_pp.update(ptcls.pos, ptcls.id, ptcls.masses, self.box_lengths,\n\u001b[1;32m    316\u001b[0m                                            \u001b[0mself\u001b[0m\u001b[0;34m.\u001b[0m\u001b[0mrc\u001b[0m\u001b[0;34m,\u001b[0m \u001b[0mself\u001b[0m\u001b[0;34m.\u001b[0m\u001b[0mmatrix\u001b[0m\u001b[0;34m,\u001b[0m \u001b[0mself\u001b[0m\u001b[0;34m.\u001b[0m\u001b[0mforce\u001b[0m\u001b[0;34m,\u001b[0m\u001b[0;34m\u001b[0m\u001b[0;34m\u001b[0m\u001b[0m\n\u001b[0;32m--> 317\u001b[0;31m                                            self.measure, ptcls.rdf_hist)\n\u001b[0m\u001b[1;32m    318\u001b[0m \u001b[0;34m\u001b[0m\u001b[0m\n\u001b[1;32m    319\u001b[0m         \u001b[0;32mif\u001b[0m \u001b[0;32mnot\u001b[0m \u001b[0;34m(\u001b[0m\u001b[0mself\u001b[0m\u001b[0;34m.\u001b[0m\u001b[0mtype\u001b[0m \u001b[0;34m==\u001b[0m \u001b[0;34m\"LJ\"\u001b[0m\u001b[0;34m)\u001b[0m\u001b[0;34m:\u001b[0m\u001b[0;34m\u001b[0m\u001b[0;34m\u001b[0m\u001b[0m\n",
      "\u001b[0;32m~/Documents/Programming/sarkas/sarkas/potentials/force_pp.py\u001b[0m in \u001b[0;36mupdate\u001b[0;34m(pos, p_id, p_mass, box_lengths, rc, potential_matrix, force, measure, rdf_hist)\u001b[0m\n\u001b[1;32m    277\u001b[0m                                 \u001b[0mj\u001b[0m \u001b[0;34m=\u001b[0m \u001b[0mhead\u001b[0m\u001b[0;34m[\u001b[0m\u001b[0mc_N\u001b[0m\u001b[0;34m]\u001b[0m\u001b[0;34m\u001b[0m\u001b[0;34m\u001b[0m\u001b[0m\n\u001b[1;32m    278\u001b[0m \u001b[0;34m\u001b[0m\u001b[0m\n\u001b[0;32m--> 279\u001b[0;31m                                 \u001b[0;32mwhile\u001b[0m \u001b[0mj\u001b[0m \u001b[0;34m!=\u001b[0m \u001b[0mempty\u001b[0m\u001b[0;34m:\u001b[0m\u001b[0;34m\u001b[0m\u001b[0;34m\u001b[0m\u001b[0m\n\u001b[0m\u001b[1;32m    280\u001b[0m \u001b[0;34m\u001b[0m\u001b[0m\n\u001b[1;32m    281\u001b[0m                                     \u001b[0;31m# Only compute particles beyond i-th particle (Newton's 3rd Law)\u001b[0m\u001b[0;34m\u001b[0m\u001b[0;34m\u001b[0m\u001b[0;34m\u001b[0m\u001b[0m\n",
      "\u001b[0;31mKeyboardInterrupt\u001b[0m: "
     ]
    }
   ],
   "source": [
    "for i, fname in enumerate(input_file_names):\n",
    "    inp = os.path.join(example_directory, fname)\n",
    "\n",
    "    preproc = PreProcess(inp)\n",
    "    preproc.setup(read_yaml=True)\n",
    "    preproc.run(\n",
    "#          timing=False, # time estimation, default is True\n",
    "#          loops = 10,   # the number of timesteps to average, Default is 10\n",
    "         pppm_estimate=True,\n",
    "#         timing_study = True,\n",
    "#         postprocessing=True,\n",
    "        remove = True, # Save some space.\n",
    "               )\n",
    "#     print(\"{}\".format(preproc.parameters.box_lengths[0]/preproc.potential.rc) )\n",
    "    ptcls_num[i] = preproc.parameters.total_num_ptcls\n",
    "    mean_pp_times[i] = np.mean(preproc.pp_acc_time[1:])\n",
    "    std_pp_times[i] = np.std(preproc.pp_acc_time[1:])\n",
    "    mean_pm_times[i] = np.mean(preproc.pm_acc_time[1:])\n",
    "    std_pm_times[i] = np.std(preproc.pm_acc_time[1:])\n",
    "    \n",
    "    print('Mean PP Times: {:.6e}'.format(mean_pp_times[i]) )\n",
    "    print('Mean PM Times: {:.6e}'.format(mean_pm_times[i]) )\n",
    "    print(fname, ' Done')"
   ]
  },
  {
   "cell_type": "code",
   "execution_count": 20,
   "id": "duplicate-investing",
   "metadata": {},
   "outputs": [],
   "source": [
    "import pandas as pd\n",
    "\n",
    "# data = pd.DataFrame( \n",
    "#     np.stack( (ptcls_num, mean_pp_times, std_pp_times, mean_pm_times ,std_pm_times) , axis = 1),\n",
    "#     columns = ['Particles',\n",
    "#                'Numba Mean PP Times', \n",
    "#                'Numba Std PP Times',\n",
    "#                'Numba Mean PM Times',\n",
    "#                'Numba Std PM Times'] )\n",
    "# data.to_csv('Numba_timing.csv', index = False)"
   ]
  },
  {
   "cell_type": "code",
   "execution_count": 21,
   "id": "passing-treasurer",
   "metadata": {},
   "outputs": [],
   "source": [
    "data = pd.read_csv('Timing_Data.csv', index_col=False)"
   ]
  },
  {
   "cell_type": "code",
   "execution_count": 22,
   "id": "hawaiian-laser",
   "metadata": {},
   "outputs": [
    {
     "data": {
      "text/html": [
       "<div>\n",
       "<style scoped>\n",
       "    .dataframe tbody tr th:only-of-type {\n",
       "        vertical-align: middle;\n",
       "    }\n",
       "\n",
       "    .dataframe tbody tr th {\n",
       "        vertical-align: top;\n",
       "    }\n",
       "\n",
       "    .dataframe thead th {\n",
       "        text-align: right;\n",
       "    }\n",
       "</style>\n",
       "<table border=\"1\" class=\"dataframe\">\n",
       "  <thead>\n",
       "    <tr style=\"text-align: right;\">\n",
       "      <th></th>\n",
       "      <th>Particles</th>\n",
       "      <th>Numba Mean Times</th>\n",
       "      <th>Numba Std Times</th>\n",
       "      <th>Python Mean Times</th>\n",
       "      <th>Python Std Times</th>\n",
       "      <th>C Mean Times</th>\n",
       "      <th>C Std Times</th>\n",
       "    </tr>\n",
       "  </thead>\n",
       "  <tbody>\n",
       "    <tr>\n",
       "      <th>0</th>\n",
       "      <td>10000.0</td>\n",
       "      <td>1.607255e+08</td>\n",
       "      <td>5.156055e+06</td>\n",
       "      <td>5.260791e+10</td>\n",
       "      <td>1.630793e+08</td>\n",
       "      <td>2.653379e+08</td>\n",
       "      <td>2.131156e+06</td>\n",
       "    </tr>\n",
       "    <tr>\n",
       "      <th>1</th>\n",
       "      <td>20000.0</td>\n",
       "      <td>2.975319e+08</td>\n",
       "      <td>3.370340e+06</td>\n",
       "      <td>7.673028e+10</td>\n",
       "      <td>2.773674e+08</td>\n",
       "      <td>5.049276e+08</td>\n",
       "      <td>3.742605e+06</td>\n",
       "    </tr>\n",
       "    <tr>\n",
       "      <th>2</th>\n",
       "      <td>50000.0</td>\n",
       "      <td>8.639297e+08</td>\n",
       "      <td>2.229352e+07</td>\n",
       "      <td>2.315224e+11</td>\n",
       "      <td>3.924550e+08</td>\n",
       "      <td>1.325084e+09</td>\n",
       "      <td>3.268709e+06</td>\n",
       "    </tr>\n",
       "    <tr>\n",
       "      <th>3</th>\n",
       "      <td>100000.0</td>\n",
       "      <td>1.853293e+09</td>\n",
       "      <td>3.205940e+07</td>\n",
       "      <td>4.717860e+11</td>\n",
       "      <td>1.460930e+09</td>\n",
       "      <td>2.797184e+09</td>\n",
       "      <td>8.918109e+06</td>\n",
       "    </tr>\n",
       "    <tr>\n",
       "      <th>4</th>\n",
       "      <td>200000.0</td>\n",
       "      <td>3.297458e+09</td>\n",
       "      <td>3.479448e+07</td>\n",
       "      <td>7.714762e+11</td>\n",
       "      <td>2.921848e+09</td>\n",
       "      <td>5.500079e+09</td>\n",
       "      <td>5.608437e+07</td>\n",
       "    </tr>\n",
       "    <tr>\n",
       "      <th>5</th>\n",
       "      <td>500000.0</td>\n",
       "      <td>8.445286e+09</td>\n",
       "      <td>5.592634e+07</td>\n",
       "      <td>2.068121e+12</td>\n",
       "      <td>5.795861e+09</td>\n",
       "      <td>1.435861e+10</td>\n",
       "      <td>3.753178e+08</td>\n",
       "    </tr>\n",
       "  </tbody>\n",
       "</table>\n",
       "</div>"
      ],
      "text/plain": [
       "   Particles  Numba Mean Times  Numba Std Times  Python Mean Times  \\\n",
       "0    10000.0      1.607255e+08     5.156055e+06       5.260791e+10   \n",
       "1    20000.0      2.975319e+08     3.370340e+06       7.673028e+10   \n",
       "2    50000.0      8.639297e+08     2.229352e+07       2.315224e+11   \n",
       "3   100000.0      1.853293e+09     3.205940e+07       4.717860e+11   \n",
       "4   200000.0      3.297458e+09     3.479448e+07       7.714762e+11   \n",
       "5   500000.0      8.445286e+09     5.592634e+07       2.068121e+12   \n",
       "\n",
       "   Python Std Times  C Mean Times   C Std Times  \n",
       "0      1.630793e+08  2.653379e+08  2.131156e+06  \n",
       "1      2.773674e+08  5.049276e+08  3.742605e+06  \n",
       "2      3.924550e+08  1.325084e+09  3.268709e+06  \n",
       "3      1.460930e+09  2.797184e+09  8.918109e+06  \n",
       "4      2.921848e+09  5.500079e+09  5.608437e+07  \n",
       "5      5.795861e+09  1.435861e+10  3.753178e+08  "
      ]
     },
     "execution_count": 22,
     "metadata": {},
     "output_type": "execute_result"
    }
   ],
   "source": [
    "data\n"
   ]
  },
  {
   "cell_type": "code",
   "execution_count": 56,
   "id": "architectural-submission",
   "metadata": {},
   "outputs": [
    {
     "data": {
      "image/png": "[encoded data removed]",
      "text/plain": [
       "<Figure size 576x432 with 1 Axes>"
      ]
     },
     "metadata": {
      "needs_background": "light"
     },
     "output_type": "display_data"
    }
   ],
   "source": [
    "fig, ax = plt.subplots(1,1, figsize = (8,6))\n",
    "ax.errorbar(ptcls_num[:-1], \n",
    "               data['Python Mean Times']*1e-9, \n",
    "               yerr = data['Python Std Times']*1e-9, fmt = '--ro', ms = 10, label = 'Raw Python')\n",
    "ax.errorbar(ptcls_num[:-1], data[\"C Mean Times\"]*1e-9, \n",
    "               yerr = data[\"C Std Times\"]*1e-9, fmt = '--bo', ms = 10, label = 'C with O3 optimization')\n",
    "ax.errorbar(ptcls_num[:-1], data[\"Numba Mean Times\"]*1e-9, \n",
    "               yerr = data[\"Numba Std Times\"]*1e-9, fmt = '--ok', ms = 10, label = 'Numba Python')\n",
    "\n",
    "ax.set(title = 'Linked-Cell-List Algorithm', yscale = 'log', xscale='log', ylabel = r'Time [s]', xlabel = r'Number of particles')\n",
    "ax.legend()\n",
    "# ax.set_xticks([1e4, 2e4, 5e4, 1e5, 2e5, 5e5])\n",
    "# ax.set_xticklabels([r'$10^4$', r'$2 \\times 10^4$', r'$5\\times 10^4$', r'$10^5$', r'$2 \\times 10^5$', r'$5\\times 10^5$'])\n",
    "# ax[1].legend()\n",
    "fig.tight_layout()\n",
    "fig.savefig('Timing.pdf')"
   ]
  },
  {
   "cell_type": "code",
   "execution_count": 39,
   "id": "atmospheric-stage",
   "metadata": {},
   "outputs": [],
   "source": [
    "c_speedup = abs(data[\"Numba Mean Times\"] - data[\"C Mean Times\"])/data[\"Numba Mean Times\"]\n",
    "py_speedup = abs(data[\"Numba Mean Times\"] - data[\"Python Mean Times\"])/data[\"Numba Mean Times\"]"
   ]
  },
  {
   "cell_type": "code",
   "execution_count": 40,
   "id": "romantic-concern",
   "metadata": {},
   "outputs": [
    {
     "data": {
      "text/plain": [
       "0    326.315396\n",
       "1    256.889198\n",
       "2    266.987521\n",
       "3    253.566367\n",
       "4    232.960854\n",
       "5    243.884664\n",
       "dtype: float64"
      ]
     },
     "execution_count": 40,
     "metadata": {},
     "output_type": "execute_result"
    }
   ],
   "source": [
    "py_speedup"
   ]
  },
  {
   "cell_type": "code",
   "execution_count": 41,
   "id": "noble-september",
   "metadata": {},
   "outputs": [
    {
     "data": {
      "text/plain": [
       "0    0.650876\n",
       "1    0.697054\n",
       "2    0.533787\n",
       "3    0.509305\n",
       "4    0.667975\n",
       "5    0.700192\n",
       "dtype: float64"
      ]
     },
     "execution_count": 41,
     "metadata": {},
     "output_type": "execute_result"
    }
   ],
   "source": [
    "c_speedup"
   ]
  },
  {
   "cell_type": "code",
   "execution_count": null,
   "id": "completed-simple",
   "metadata": {},
   "outputs": [],
   "source": []
  }
 ],
 "metadata": {
  "kernelspec": {
   "display_name": "Python 3",
   "language": "python",
   "name": "python3"
  },
  "language_info": {
   "codemirror_mode": {
    "name": "ipython",
    "version": 3
   },
   "file_extension": ".py",
   "mimetype": "text/x-python",
   "name": "python",
   "nbconvert_exporter": "python",
   "pygments_lexer": "ipython3",
   "version": "3.7.10"
  }
 },
 "nbformat": 4,
 "nbformat_minor": 5
}
