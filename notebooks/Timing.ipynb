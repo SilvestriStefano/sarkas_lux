{
 "cells": [
  {
   "cell_type": "markdown",
   "id": "forced-steel",
   "metadata": {},
   "source": [
    "# Timing Notebook"
   ]
  },
  {
   "cell_type": "code",
   "execution_count": 1,
   "id": "waiting-affiliation",
   "metadata": {},
   "outputs": [
    {
     "name": "stdout",
     "output_type": "stream",
     "text": [
      "Using matplotlib backend: TkAgg\n",
      "Populating the interactive namespace from numpy and matplotlib\n"
     ]
    }
   ],
   "source": [
    "# Import the usual libraries\n",
    "%pylab\n",
    "%matplotlib inline\n",
    "import os\n",
    "plt.style.use('PUBstyle')\n",
    "# Import sarkas\n",
    "from sarkas.processes import Simulation, PostProcess, PreProcess\n",
    "from sarkas.tools.transport import TransportCoefficient\n",
    "\n",
    "# Create the file path to the YAML input file\n",
    "example_directory = os.path.join('..',\n",
    "                                 os.path.join('sarkas',\n",
    "                                              os.path.join('examples', 'Timing')))\n",
    "\n",
    "input_file_names = [\n",
    "    'ocp_N10k.yaml',\n",
    "    'ocp_N50k.yaml',\n",
    "    'ocp_N100k.yaml',\n",
    "    'ocp_N500k.yaml'] \n",
    "\n",
    "ptcls_num = np.array([10000, 50000, 100000, 500000])\n",
    "mean_pp_times = np.zeros(len(input_file_names) )\n",
    "mean_pm_times = np.zeros(len(input_file_names) )\n",
    "std_pp_times = np.zeros(len(input_file_names) )\n",
    "std_pm_times = np.zeros(len(input_file_names) )\n",
    "\n"
   ]
  },
  {
   "cell_type": "code",
   "execution_count": 2,
   "id": "grand-advocate",
   "metadata": {
    "scrolled": false
   },
   "outputs": [],
   "source": [
    "for i, fname in enumerate(input_file_names):\n",
    "    inp = os.path.join(example_directory, fname)\n",
    "\n",
    "    preproc = PreProcess(inp)\n",
    "    preproc.setup(read_yaml=True)\n",
    "    preproc.run(\n",
    "        timing=True, # time estimation, default is True\n",
    "        loops = 10,   # the number of timesteps to average, Default is 10\n",
    "        pppm_estimate=True,\n",
    "        remove = True, # Save some space.\n",
    "               )\n",
    "    ptcls_num[i] = preproc.parameters.total_num_ptcls\n",
    "    mean_pp_times[i] = np.mean(preproc.pp_acc_time[1:])\n",
    "    std_pp_times[i] = np.std(preproc.pp_acc_time[1:])\n",
    "    mean_pm_times[i] = np.mean(preproc.pm_acc_time[1:])\n",
    "    std_pm_times[i] = np.std(preproc.pm_acc_time[1:])\n",
    "    print(fname, ' Done')"
   ]
  },
  {
   "cell_type": "code",
   "execution_count": 3,
   "id": "scenic-kinase",
   "metadata": {},
   "outputs": [],
   "source": [
    "# fig, ax = plt.subplots(1,2, figsize = (12,9), sharex = True)\n",
    "# ax[0].errorbar(ptcls_num, mean_pp_times, yerr = std_pp_times, fmt = '--o')\n",
    "# # ax[0].fill_between(ptcls_num, \n",
    "# #                    mean_pp_times - std_pp_times,\n",
    "# #                   mean_pp_times + std_pp_times)\n",
    "\n",
    "# ax[1].errorbar(ptcls_num, mean_pm_times, yerr = std_pm_times, fmt = '--o')\n",
    "# # ax[1].fill_between(ptcls_num, \n",
    "# #                    mean_pm_times - std_pm_times,\n",
    "# #                   mean_pm_times + std_pm_times)\n",
    "# ax[0].set(yscale = 'log', xscale='log', ylabel = r'time per timestep [ns]', xlabel = r'$N$ = Number of particles')\n",
    "# ax[1].set(yscale = 'log', xscale='log', xlabel = r'$N$ = Number of particles')"
   ]
  },
  {
   "cell_type": "code",
   "execution_count": 2,
   "id": "duplicate-investing",
   "metadata": {},
   "outputs": [],
   "source": [
    "import pandas as pd\n",
    "\n",
    "# data = pd.DataFrame( \n",
    "#     np.stack( (mean_pp_times, std_pp_times, mean_pm_times ,std_pm_times) , axis = 1),\n",
    "#     columns = ['Python Mean PP Times', \n",
    "#                'Python Std PP Times',\n",
    "#                'Python Mean PM Times',\n",
    "#                'Python Std PM Times'] )"
   ]
  },
  {
   "cell_type": "code",
   "execution_count": 5,
   "id": "passing-treasurer",
   "metadata": {},
   "outputs": [],
   "source": [
    "data = pd.read_csv('Python_timing.csv', index_col=False)"
   ]
  },
  {
   "cell_type": "code",
   "execution_count": 6,
   "id": "hidden-collector",
   "metadata": {},
   "outputs": [],
   "source": [
    "numbas = pd.read_csv('Numba_timing.csv', index_col=False)\n"
   ]
  },
  {
   "cell_type": "code",
   "execution_count": 7,
   "id": "hawaiian-laser",
   "metadata": {},
   "outputs": [
    {
     "data": {
      "text/html": [
       "<div>\n",
       "<style scoped>\n",
       "    .dataframe tbody tr th:only-of-type {\n",
       "        vertical-align: middle;\n",
       "    }\n",
       "\n",
       "    .dataframe tbody tr th {\n",
       "        vertical-align: top;\n",
       "    }\n",
       "\n",
       "    .dataframe thead th {\n",
       "        text-align: right;\n",
       "    }\n",
       "</style>\n",
       "<table border=\"1\" class=\"dataframe\">\n",
       "  <thead>\n",
       "    <tr style=\"text-align: right;\">\n",
       "      <th></th>\n",
       "      <th>Python Mean PP Times</th>\n",
       "      <th>Python Std PP Times</th>\n",
       "      <th>Python Mean PM Times</th>\n",
       "      <th>Python Std PM Times</th>\n",
       "    </tr>\n",
       "  </thead>\n",
       "  <tbody>\n",
       "    <tr>\n",
       "      <th>0</th>\n",
       "      <td>4.746795e+10</td>\n",
       "      <td>5.946179e+08</td>\n",
       "      <td>2.780403e+10</td>\n",
       "      <td>5.905404e+08</td>\n",
       "    </tr>\n",
       "    <tr>\n",
       "      <th>1</th>\n",
       "      <td>2.093764e+11</td>\n",
       "      <td>1.216310e+09</td>\n",
       "      <td>1.367559e+11</td>\n",
       "      <td>1.056775e+09</td>\n",
       "    </tr>\n",
       "    <tr>\n",
       "      <th>2</th>\n",
       "      <td>4.390014e+11</td>\n",
       "      <td>1.687709e+09</td>\n",
       "      <td>2.726222e+11</td>\n",
       "      <td>1.110827e+09</td>\n",
       "    </tr>\n",
       "    <tr>\n",
       "      <th>3</th>\n",
       "      <td>1.886835e+12</td>\n",
       "      <td>1.176304e+10</td>\n",
       "      <td>1.402024e+12</td>\n",
       "      <td>1.525426e+10</td>\n",
       "    </tr>\n",
       "  </tbody>\n",
       "</table>\n",
       "</div>"
      ],
      "text/plain": [
       "   Python Mean PP Times  Python Std PP Times  Python Mean PM Times  \\\n",
       "0          4.746795e+10         5.946179e+08          2.780403e+10   \n",
       "1          2.093764e+11         1.216310e+09          1.367559e+11   \n",
       "2          4.390014e+11         1.687709e+09          2.726222e+11   \n",
       "3          1.886835e+12         1.176304e+10          1.402024e+12   \n",
       "\n",
       "   Python Std PM Times  \n",
       "0         5.905404e+08  \n",
       "1         1.056775e+09  \n",
       "2         1.110827e+09  \n",
       "3         1.525426e+10  "
      ]
     },
     "execution_count": 7,
     "metadata": {},
     "output_type": "execute_result"
    }
   ],
   "source": [
    "data"
   ]
  },
  {
   "cell_type": "code",
   "execution_count": 20,
   "id": "architectural-submission",
   "metadata": {},
   "outputs": [
    {
     "data": {
      "image/png": "[encoded data removed]",
      "text/plain": [
       "<Figure size 576x288 with 2 Axes>"
      ]
     },
     "metadata": {
      "needs_background": "light"
     },
     "output_type": "display_data"
    }
   ],
   "source": [
    "fig, ax = plt.subplots(1,2, figsize = (8,4), sharex = True)\n",
    "ax[0].errorbar(ptcls_num, \n",
    "               data['Python Mean PP Times']*1e-9, \n",
    "               yerr = data['Python Std PP Times']*1e-9, fmt = '--o', label = 'Raw Python')\n",
    "ax[0].errorbar(ptcls_num, numbas[\"Numba Mean PP Times\"]*1e-9, \n",
    "               yerr = numbas[\"Numba Std PP Times\"]*1e-9, fmt = '--o', label = 'Numba Python')\n",
    "\n",
    "# ax[0].fill_between(ptcls_num, \n",
    "#                    mean_pp_times - std_pp_times,\n",
    "#                   mean_pp_times + std_pp_times)\n",
    "\n",
    "ax[1].errorbar(ptcls_num, \n",
    "               data['Python Mean PM Times']*1e-9, \n",
    "               yerr = data['Python Std PM Times']*1e-9, fmt = '--o', label = 'Raw Python')\n",
    "ax[1].errorbar(ptcls_num, numbas[\"Numba Mean PM Times\"]*1e-9, yerr = numbas[\"Numba Std PM Times\"]*1e-9,\n",
    "               fmt = '--o', label = 'Numba Python')\n",
    "# ax[1].fill_between(ptcls_num, \n",
    "#                    mean_pm_times - std_pm_times,\n",
    "#                   mean_pm_times + std_pm_times)\n",
    "ax[0].set(title = 'Particle-Particle Acceleration', yscale = 'log', xscale='log', ylabel = r'Time [s]', xlabel = r'Number of particles')\n",
    "ax[1].set(title = 'Particle-Mesh Acceleration', yscale = 'log', xscale='log', xlabel = r'Number of particles')\n",
    "ax[0].legend()\n",
    "# ax[1].legend()\n",
    "fig.tight_layout()\n",
    "fig.savefig('Timing.pdf')"
   ]
  },
  {
   "cell_type": "code",
   "execution_count": 23,
   "id": "vulnerable-product",
   "metadata": {},
   "outputs": [
    {
     "data": {
      "image/png": "[encoded data removed]",
      "text/plain": [
       "<Figure size 576x288 with 2 Axes>"
      ]
     },
     "metadata": {
      "needs_background": "light"
     },
     "output_type": "display_data"
    }
   ],
   "source": [
    "fig, ax = plt.subplots(1,2, figsize = (8,4), sharex = True)\n",
    "ax[0].plot(ptcls_num, data[\"Python Mean PP Times\"]/numbas[\"Numba Mean PP Times\"], '--o')\n",
    "\n",
    "ax[1].plot(ptcls_num, data[\"Python Mean PM Times\"]/numbas[\"Numba Mean PM Times\"], '--o')\n",
    "ax[0].set(title = 'Particle-Particle Acceleration', xscale='log', ylabel = r'Speed up [x times]', xlabel = r'Number of particles')\n",
    "ax[1].set(title = 'Particle-Mesh Acceleration',  xscale='log', xlabel = r'Number of particles')\n",
    "fig.tight_layout()\n",
    "fig.savefig('Speed_up.pdf')"
   ]
  },
  {
   "cell_type": "code",
   "execution_count": 10,
   "id": "speaking-canal",
   "metadata": {},
   "outputs": [],
   "source": [
    "data2 = pd.DataFrame()\n",
    "data2[\"Particles\"] = ptcls_num\n",
    "data2 = pd.concat([data2, numbas, data], axis = 1)"
   ]
  },
  {
   "cell_type": "code",
   "execution_count": 4,
   "id": "atmospheric-correction",
   "metadata": {},
   "outputs": [],
   "source": [
    "data2 = pd.read_csv('Timing_Data.csv', index_col = False, encoding = 'utf-8')"
   ]
  },
  {
   "cell_type": "code",
   "execution_count": 9,
   "id": "geographic-equivalent",
   "metadata": {},
   "outputs": [
    {
     "data": {
      "text/plain": [
       "0    0.689771\n",
       "1    1.232706\n",
       "2    1.019022\n",
       "3    1.105483\n",
       "dtype: float64"
      ]
     },
     "execution_count": 9,
     "metadata": {},
     "output_type": "execute_result"
    }
   ],
   "source": []
  },
  {
   "cell_type": "code",
   "execution_count": 10,
   "id": "completed-arrival",
   "metadata": {},
   "outputs": [
    {
     "data": {
      "text/plain": [
       "0    0.686149\n",
       "1    2.062843\n",
       "2    2.558796\n",
       "3    0.442538\n",
       "dtype: float64"
      ]
     },
     "execution_count": 10,
     "metadata": {},
     "output_type": "execute_result"
    }
   ],
   "source": [
    "data2[\"Numba Std PM Times\"]/data2[\"Numba Mean PM Times\"]*100"
   ]
  },
  {
   "cell_type": "code",
   "execution_count": 11,
   "id": "labeled-hanging",
   "metadata": {},
   "outputs": [
    {
     "data": {
      "text/plain": [
       "0    1.252673\n",
       "1    0.580920\n",
       "2    0.384443\n",
       "3    0.623427\n",
       "dtype: float64"
      ]
     },
     "execution_count": 11,
     "metadata": {},
     "output_type": "execute_result"
    }
   ],
   "source": [
    "data2[\"Python Std PP Times\"]/data2[\"Python Mean PP Times\"]*100"
   ]
  },
  {
   "cell_type": "code",
   "execution_count": 12,
   "id": "comfortable-chicago",
   "metadata": {},
   "outputs": [
    {
     "data": {
      "text/plain": [
       "0    2.123939\n",
       "1    0.772745\n",
       "2    0.407460\n",
       "3    1.088017\n",
       "dtype: float64"
      ]
     },
     "execution_count": 12,
     "metadata": {},
     "output_type": "execute_result"
    }
   ],
   "source": [
    "data2[\"Python Std PM Times\"]/data2[\"Python Mean PM Times\"]*100"
   ]
  },
  {
   "cell_type": "code",
   "execution_count": 2,
   "id": "particular-voice",
   "metadata": {},
   "outputs": [
    {
     "data": {
      "text/plain": [
       "array([2.78400629e+26, 1.39200315e+27, 2.78400629e+27, 1.39200315e+28])"
      ]
     },
     "execution_count": 2,
     "metadata": {},
     "output_type": "execute_result"
    }
   ],
   "source": [
    "ptcls_num/(3.299463e-08**3)"
   ]
  },
  {
   "cell_type": "code",
   "execution_count": null,
   "id": "atmospheric-stage",
   "metadata": {},
   "outputs": [],
   "source": []
  }
 ],
 "metadata": {
  "kernelspec": {
   "display_name": "Python 3",
   "language": "python",
   "name": "python3"
  },
  "language_info": {
   "codemirror_mode": {
    "name": "ipython",
    "version": 3
   },
   "file_extension": ".py",
   "mimetype": "text/x-python",
   "name": "python",
   "nbconvert_exporter": "python",
   "pygments_lexer": "ipython3",
   "version": "3.7.10"
  }
 },
 "nbformat": 4,
 "nbformat_minor": 5
}
