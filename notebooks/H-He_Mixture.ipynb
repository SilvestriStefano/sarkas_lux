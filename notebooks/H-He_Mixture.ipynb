{
 "cells": [
  {
   "cell_type": "markdown",
   "metadata": {},
   "source": [
    "# H-He Mixture Simulation"
   ]
  },
  {
   "cell_type": "code",
   "execution_count": 1,
   "metadata": {},
   "outputs": [
    {
     "name": "stdout",
     "output_type": "stream",
     "text": [
      "Using matplotlib backend: TkAgg\n",
      "Populating the interactive namespace from numpy and matplotlib\n"
     ]
    }
   ],
   "source": [
    "# Import the usual libraries\n",
    "%pylab\n",
    "%matplotlib inline\n",
    "import os\n",
    "plt.style.use('MSUstyle')\n",
    "# Import sarkas\n",
    "from sarkas.processes import Simulation, PostProcess, PreProcess\n",
    "from sarkas.tools.transport import TransportCoefficient\n",
    "\n",
    "# Create the file path to the YAML input file\n",
    "example_directory = os.path.join('..',\n",
    "                                 os.path.join('sarkas',\n",
    "                                              os.path.join('examples', 'Coulomb')))\n",
    "\n",
    "input_file_name = os.path.join(example_directory, 'BIM_cgs.yaml')"
   ]
  },
  {
   "cell_type": "code",
   "execution_count": 2,
   "metadata": {
    "scrolled": false
   },
   "outputs": [
    {
     "name": "stdout",
     "output_type": "stream",
     "text": [
      "\u001b[38;2;110;0;95m\n",
      "\n",
      "\n",
      "\n",
      "\n",
      "\n",
      "  _________             __                   \n",
      " /   _____/____ _______|  | _______    ______\n",
      " \\_____  \\\\__  \\\\_  __ \\  |/ /\\__  \\  /  ___/\n",
      " /        \\/ __ \\|  | \\/    <  / __ \\_\\___ \\ \n",
      "/_______  (____  /__|  |__|_ \\(____  /____  >\n",
      "        \\/     \\/           \\/     \\/     \\/ \n",
      "\n",
      "\u001b[0m\n",
      "An open-source pure-python molecular dynamics suite for non-ideal plasmas.\n",
      "\n",
      "\n",
      "\n",
      "* * * * * * * * * * * * * * * * * * * * * * * * * * * * * * * * * * * * * * * * * * * * * * * * * *\n",
      "                                   Simulation                                   \n",
      "* * * * * * * * * * * * * * * * * * * * * * * * * * * * * * * * * * * * * * * * * * * * * * * * * *\n",
      "\n",
      "Job ID:  bim_gamma_40\n",
      "Job directory:  Simulations/bim_gamma_40\n",
      "\n",
      "Equilibration dumps directory: \n",
      " Simulations/bim_gamma_40/Simulation/Equilibration/dumps\n",
      "Production dumps directory: \n",
      " Simulations/bim_gamma_40/Simulation/Production/dumps\n",
      "\n",
      "Equilibration Thermodynamics file: \n",
      " Simulations/bim_gamma_40/Simulation/Equilibration/EquilibrationEnergy_bim_gamma_40.csv\n",
      "Production Thermodynamics file: \n",
      " Simulations/bim_gamma_40/Simulation/Production/ProductionEnergy_bim_gamma_40.csv\n",
      "\n",
      "PARTICLES:\n",
      "Total No. of particles =  1000\n",
      "No. of species =  2\n",
      "Species ID: 0\n",
      "\tName: H\n",
      "\tNo. of particles = 500 \n",
      "\tNumber density = 8.100000e+27 [N/cc]\n",
      "\tAtomic weight = 1.0000 [a.u.]\n",
      "\tMass = 1.672622e-24 [g]\n",
      "\tMass density = 3.387059e+04 [g/cc]\n",
      "\tCharge number/ionization degree = 1.0000 \n",
      "\tCharge = 4.803205e-10 [esu]\n",
      "\tTemperature = 1.703543e+05 [K] = 1.468000e+01 [eV]\n",
      "\tDebye Length = 3.164752e-11 [Hz]\n",
      "\tPlasma Frequency = 1.184894e+17 [Hz]\n",
      "Species ID: 1\n",
      "\tName: He\n",
      "\tNo. of particles = 500 \n",
      "\tNumber density = 8.100000e+27 [N/cc]\n",
      "\tAtomic weight = 4.0000 [a.u.]\n",
      "\tMass = 6.690488e-24 [g]\n",
      "\tMass density = 3.387059e+04 [g/cc]\n",
      "\tCharge number/ionization degree = 2.0000 \n",
      "\tCharge = 9.606409e-10 [esu]\n",
      "\tTemperature = 1.703543e+05 [K] = 1.468000e+01 [eV]\n",
      "\tDebye Length = 1.582376e-11 [Hz]\n",
      "\tPlasma Frequency = 1.184894e+17 [Hz]\n",
      "\n",
      "SIMULATION BOX:\n",
      "Units:  cgs\n",
      "Wigner-Seitz radius = 2.451689e-10 [cm]\n",
      "No. of non-zero box dimensions =  3\n",
      "Box side along x axis = 1.611992e+01 a_ws = 3.952104e-09 [cm]\n",
      "Box side along y axis = 1.611992e+01 a_ws = 3.952104e-09 [cm]\n",
      "Box side along z axis = 1.611992e+01 a_ws = 3.952104e-09 [cm]\n",
      "Box Volume = 6.172840e-26 [cm^3]\n",
      "Boundary conditions: periodic\n",
      "\n",
      "ELECTRON PROPERTIES:\n",
      "Number density: n_e = 2.430000e+28 [N/cc]\n",
      "Wigner-Seitz radius: a_e = 2.141748e-10 [cm]\n",
      "Temperature: T_e = 1.703543e+05 [K] = 1.468000e+01 [eV]\n",
      "de Broglie wavelength: lambda_deB = 1.805940e-08 [cm]\n",
      "Thomas-Fermi length: lambda_TF = 6.810427e-10 [cm]\n",
      "Fermi wave number: k_F = 8.960710e+09 [1/cm]\n",
      "Fermi Energy: E_F = 3.059199e+04 [eV]\n",
      "Relativistic parameter: x_F = 3.460261e-01 --> E_F = 2.972730e+04 [eV]\n",
      "Degeneracy parameter: Theta = 4.798641e-04 \n",
      "Coupling: r_s = 0.040473,  Gamma_e = 45.799145\n",
      "Warm Dense Matter Parameter: W = 4.1890e-05\n",
      "Chemical potential: mu = 2.0839e+03 k_B T_e = 1.0000e+00 E_F\n",
      "\n",
      "POTENTIAL:  Coulomb\n",
      "Effective Coupling constant: Gamma_eff = 95.60\n",
      "\n",
      "ALGORITHM:  P3M\n",
      "Mesh = 32 x 32 x 32\n",
      "Ewald parameter alpha = 0.5100 / a_ws = 2.080200e+09 [1/cm]\n",
      "Mesh width = 0.5037, 0.5037, 0.5037 a_ws\n",
      "           = 1.2350e-10, 1.2350e-10, 1.2350e-10 [cm]\n",
      "Mesh size * Ewald_parameter (h * alpha) = 0.2569, 0.2569, 0.2569 \n",
      "                                        ~ 1/3, 1/3, 1/3\n",
      "rcut = 7.0001 a_ws = 1.716200e-09 [cm]\n",
      "No. of PP cells per dimension =  2,  2,  2\n",
      "No. of particles in PP loop =   2210\n",
      "No. of PP neighbors per particle =    343\n",
      "PM Force Error = 9.042788e-07\n",
      "PP Force Error = 1.077142e-06\n",
      "Tot Force Error = 1.406398e-06\n",
      "\n",
      "THERMOSTAT: \n",
      "Type: Berendsen\n",
      "First thermostating timestep, i.e. relaxation_timestep = 1\n",
      "Berendsen parameter tau: 5.000 [timesteps]\n",
      "Berendsen relaxation rate: 0.200 [1/timesteps] \n",
      "\n",
      "!!!!!!!!!!!!!!!!!!!!!!!!!!!!!!!!!! WARNING !!!!!!!!!!!!!!!!!!!!!!!!!!!!!!!!!!\n",
      "Equilibration temperatures not defined. I will use the species's temperatures\n",
      "!!!!!!!!!!!!!!!!!!!!!!!!!!!!!!!!!!!!!!!!!!!!!!!!!!!!!!!!!!!!!!!!!!!!!!!!!!!!!\n",
      "\n",
      "Thermostating temperatures: \n",
      "Species ID 0: T_eq = 1.703543e+05 [K] = 1.468000e+01 [eV]\n",
      "Species ID 1: T_eq = 1.703543e+05 [K] = 1.468000e+01 [eV]\n",
      "\n",
      "INTEGRATOR: \n",
      "Type: Verlet\n",
      "Time step = 3.100000e-19 [s]\n",
      "Total plasma frequency = 1.675694e+17 [Hz]\n",
      "w_p dt = 0.0519 ~ 1/19\n",
      "\n",
      "Equilibration: \n",
      "No. of equilibration steps = 5000 \n",
      "Total equilibration time = 1.5500e-15 [s] ~ 259 w_p T_eq \n",
      "snapshot interval step = 10 \n",
      "snapshot interval time = 3.1000e-18 [s] = 0.5195 w_p T_snap\n",
      "Total number of snapshots = 500 \n",
      "\n",
      "Production: \n",
      "No. of production steps = 36000 \n",
      "Total production time = 1.1160e-14 [s] ~ 1870 w_p T_prod \n",
      "snapshot interval step = 3 \n",
      "snapshot interval time = 9.3000e-19 [s] = 0.1558 w_p T_snap\n",
      "Total number of snapshots = 12000 \n",
      "\n",
      "\n",
      "------------------------ Initialization Times ------------------------ \n",
      "\n",
      "\n",
      "Potential Initialization Time: 2 sec 97 msec 308 usec 248 nsec\n",
      "\n",
      "Particles Initialization Time: 0 sec 0 msec 378 usec 432 nsec\n",
      "\n",
      "Total Simulation Initialization Time: 2 sec 97 msec 308 usec 248 nsec\n",
      "\n",
      "------------- Equilibration -------------\n"
     ]
    },
    {
     "data": {
      "application/vnd.jupyter.widget-view+json": {
       "model_id": "7b050067d4644671af9def807ddd4206",
       "version_major": 2,
       "version_minor": 0
      },
      "text/plain": [
       "  0%|          | 0/5000 [00:00<?, ?it/s]"
      ]
     },
     "metadata": {},
     "output_type": "display_data"
    },
    {
     "name": "stdout",
     "output_type": "stream",
     "text": [
      "\n",
      "Equilibration Time: 0 hrs 2 min 24 sec\n",
      "\n",
      "------------- Production -------------\n"
     ]
    },
    {
     "data": {
      "application/vnd.jupyter.widget-view+json": {
       "model_id": "a2bc2c9998d244e8854a2318abaa7cc5",
       "version_major": 2,
       "version_minor": 0
      },
      "text/plain": [
       "  0%|          | 0/36000 [00:00<?, ?it/s]"
      ]
     },
     "metadata": {},
     "output_type": "display_data"
    },
    {
     "name": "stdout",
     "output_type": "stream",
     "text": [
      "\n",
      "Production Time: 0 hrs 18 min 21 sec\n",
      "\n",
      "Total Time: 0 hrs 20 min 46 sec\n"
     ]
    }
   ],
   "source": [
    "sim = Simulation(input_file_name)\n",
    "sim.setup(read_yaml=True)\n",
    "sim.run()"
   ]
  },
  {
   "cell_type": "code",
   "execution_count": 3,
   "metadata": {},
   "outputs": [
    {
     "name": "stdout",
     "output_type": "stream",
     "text": [
      "\n",
      "\n",
      "\n",
      "* * * * * * * * * * * * * * * * * * * * * * * * * * * * * * * * * * * * * * * * * * * * * * * * * *\n",
      "                                 Postprocessing                                 \n",
      "* * * * * * * * * * * * * * * * * * * * * * * * * * * * * * * * * * * * * * * * * * * * * * * * * *\n",
      "\n",
      "Job ID:  bim_gamma_40\n",
      "Job directory:  Simulations/bim_gamma_40\n",
      "PostProcessing directory: \n",
      " Simulations/bim_gamma_40/PostProcessing\n",
      "\n",
      "Equilibration dumps directory:  Simulations/bim_gamma_40/Simulation/Equilibration/dumps\n",
      "Production dumps directory: \n",
      " Simulations/bim_gamma_40/Simulation/Production/dumps\n",
      "\n",
      "Equilibration Thermodynamics file: \n",
      " Simulations/bim_gamma_40/Simulation/Equilibration/EquilibrationEnergy_bim_gamma_40.csv\n",
      "Production Thermodynamics file: \n",
      " Simulations/bim_gamma_40/Simulation/Production/ProductionEnergy_bim_gamma_40.csv\n"
     ]
    }
   ],
   "source": [
    "postproc = PostProcess(input_file_name)\n",
    "postproc.setup(read_yaml=True)"
   ]
  },
  {
   "cell_type": "code",
   "execution_count": 4,
   "metadata": {},
   "outputs": [],
   "source": [
    "# Equilibration check\n",
    "# postproc.therm.setup(postproc.parameters)\n",
    "# postproc.therm.temp_energy_plot(postproc, phase='equilibration')\n"
   ]
  },
  {
   "cell_type": "code",
   "execution_count": 5,
   "metadata": {},
   "outputs": [],
   "source": [
    "# Production check\n",
    "# postproc.therm.temp_energy_plot(postproc, phase='production')"
   ]
  },
  {
   "cell_type": "code",
   "execution_count": 6,
   "metadata": {},
   "outputs": [],
   "source": [
    "# postproc.rdf.setup(postproc.parameters)\n",
    "# postproc.rdf.compute()\n",
    "# postproc.rdf.plot(scaling = postproc.parameters.a_ws, \n",
    "#                   xlabel = r'$r / a_{\\rm ws}$')"
   ]
  },
  {
   "cell_type": "code",
   "execution_count": 7,
   "metadata": {},
   "outputs": [
    {
     "name": "stdout",
     "output_type": "stream",
     "text": [
      "\n",
      "\n",
      "===================== Static Structure Function ====================== \n",
      "\n",
      "k wavevector information saved in: \n",
      " Simulations/bim_gamma_40/PostProcessing/k_space_data/k_arrays.npz\n",
      "n(k,t) Data saved in: \n",
      " Simulations/bim_gamma_40/PostProcessing/k_space_data/nkt.h5\n",
      "Data saved in: \n",
      " Simulations/bim_gamma_40/PostProcessing/StaticStructureFunction/Production/StaticStructureFunction_bim_gamma_40.h5\n",
      "Data accessible at: self.k_list, self.k_counts, self.ka_values, self.dataframe\n",
      "\n",
      "Smallest wavevector k_min = 2 pi / L = 3.9 / N^(1/3)\n",
      "k_min = 0.3898 / a_ws = 1.5898e+09 [1/cm]\n",
      "\n",
      "Angle averaging choice: full\n",
      "\tMaximum angle averaged k harmonics = n_x, n_y, n_z = 7, 7, 7\n",
      "\tLargest angle averaged k_max = k_min * sqrt( n_x^2 + n_y^2 + n_z^2)\n",
      "\tk_max = 4.7258 / a_ws = 1.9276e+10 [1/cm]\n",
      "\n",
      "Total number of k values to calculate = 511\n",
      "No. of unique ka values to calculate = 108\n"
     ]
    }
   ],
   "source": [
    "from sarkas.tools.observables import StaticStructureFactor\n",
    "\n",
    "ssf = StaticStructureFactor()\n",
    "ssf.no_slices = 4\n",
    "ssf.angle_averaging = 'full'\n",
    "ssf.max_ka_value = 5\n",
    "ssf.setup(postproc.parameters)\n",
    "ssf.pretty_print()\n"
   ]
  },
  {
   "cell_type": "code",
   "execution_count": 8,
   "metadata": {},
   "outputs": [
    {
     "name": "stdout",
     "output_type": "stream",
     "text": [
      "\n",
      "Calculating n(k,t) for slice 1/4.\n"
     ]
    },
    {
     "data": {
      "application/vnd.jupyter.widget-view+json": {
       "model_id": "418bbacc74dd41639572563894926cd9",
       "version_major": 2,
       "version_minor": 0
      },
      "text/plain": [
       "  0%|          | 0/3000 [00:00<?, ?it/s]"
      ]
     },
     "metadata": {},
     "output_type": "display_data"
    },
    {
     "name": "stdout",
     "output_type": "stream",
     "text": [
      "\n",
      "Calculating n(k,t) for slice 2/4.\n"
     ]
    },
    {
     "data": {
      "application/vnd.jupyter.widget-view+json": {
       "model_id": "67cc17c3561c4c108e1fbebf9b0d8e38",
       "version_major": 2,
       "version_minor": 0
      },
      "text/plain": [
       "  0%|          | 0/3000 [00:00<?, ?it/s]"
      ]
     },
     "metadata": {},
     "output_type": "display_data"
    },
    {
     "name": "stdout",
     "output_type": "stream",
     "text": [
      "\n",
      "Calculating n(k,t) for slice 3/4.\n"
     ]
    },
    {
     "data": {
      "application/vnd.jupyter.widget-view+json": {
       "model_id": "193b42c297c543dabd6d015aaa7e0ba3",
       "version_major": 2,
       "version_minor": 0
      },
      "text/plain": [
       "  0%|          | 0/3000 [00:00<?, ?it/s]"
      ]
     },
     "metadata": {},
     "output_type": "display_data"
    },
    {
     "name": "stdout",
     "output_type": "stream",
     "text": [
      "\n",
      "Calculating n(k,t) for slice 4/4.\n"
     ]
    },
    {
     "data": {
      "application/vnd.jupyter.widget-view+json": {
       "model_id": "22a0c18c28424075b9155843a02cd8eb",
       "version_major": 2,
       "version_minor": 0
      },
      "text/plain": [
       "  0%|          | 0/3000 [00:00<?, ?it/s]"
      ]
     },
     "metadata": {},
     "output_type": "display_data"
    },
    {
     "name": "stdout",
     "output_type": "stream",
     "text": [
      "\n",
      "n(k,t) Calculation Time: 0 hrs 4 min 28 sec\n",
      "\n",
      "Calculating S(k) ...\n"
     ]
    },
    {
     "data": {
      "application/vnd.jupyter.widget-view+json": {
       "model_id": "13f6ea775d97424aa2afeb018d6971f6",
       "version_major": 2,
       "version_minor": 0
      },
      "text/plain": [
       "  0%|          | 0/4 [00:00<?, ?it/s]"
      ]
     },
     "metadata": {},
     "output_type": "display_data"
    },
    {
     "name": "stdout",
     "output_type": "stream",
     "text": [
      "\n",
      "Static Structure Function Calculation Time: 0 sec 619 msec 107 usec 27 nsec\n"
     ]
    },
    {
     "data": {
      "text/html": [
       "<div>\n",
       "<style scoped>\n",
       "    .dataframe tbody tr th:only-of-type {\n",
       "        vertical-align: middle;\n",
       "    }\n",
       "\n",
       "    .dataframe tbody tr th {\n",
       "        vertical-align: top;\n",
       "    }\n",
       "\n",
       "    .dataframe thead tr th {\n",
       "        text-align: left;\n",
       "    }\n",
       "</style>\n",
       "<table border=\"1\" class=\"dataframe\">\n",
       "  <thead>\n",
       "    <tr>\n",
       "      <th></th>\n",
       "      <th>Inverse Wavelength</th>\n",
       "      <th colspan=\"2\" halign=\"left\">H-H</th>\n",
       "      <th colspan=\"2\" halign=\"left\">H-He</th>\n",
       "      <th colspan=\"2\" halign=\"left\">He-He</th>\n",
       "    </tr>\n",
       "    <tr>\n",
       "      <th></th>\n",
       "      <th>NaN</th>\n",
       "      <th>Mean</th>\n",
       "      <th>Std</th>\n",
       "      <th>Mean</th>\n",
       "      <th>Std</th>\n",
       "      <th>Mean</th>\n",
       "      <th>Std</th>\n",
       "    </tr>\n",
       "  </thead>\n",
       "  <tbody>\n",
       "    <tr>\n",
       "      <th>0</th>\n",
       "      <td>1.589833e+09</td>\n",
       "      <td>1.094792</td>\n",
       "      <td>0.616749</td>\n",
       "      <td>-0.551028</td>\n",
       "      <td>0.310453</td>\n",
       "      <td>0.277975</td>\n",
       "      <td>0.156495</td>\n",
       "    </tr>\n",
       "    <tr>\n",
       "      <th>1</th>\n",
       "      <td>2.248364e+09</td>\n",
       "      <td>0.867479</td>\n",
       "      <td>0.370983</td>\n",
       "      <td>-0.439458</td>\n",
       "      <td>0.187969</td>\n",
       "      <td>0.223957</td>\n",
       "      <td>0.095852</td>\n",
       "    </tr>\n",
       "    <tr>\n",
       "      <th>2</th>\n",
       "      <td>2.753672e+09</td>\n",
       "      <td>0.674642</td>\n",
       "      <td>0.627824</td>\n",
       "      <td>-0.344093</td>\n",
       "      <td>0.321553</td>\n",
       "      <td>0.177615</td>\n",
       "      <td>0.165672</td>\n",
       "    </tr>\n",
       "    <tr>\n",
       "      <th>3</th>\n",
       "      <td>3.179666e+09</td>\n",
       "      <td>0.840883</td>\n",
       "      <td>0.320497</td>\n",
       "      <td>-0.431661</td>\n",
       "      <td>0.164964</td>\n",
       "      <td>0.224423</td>\n",
       "      <td>0.086003</td>\n",
       "    </tr>\n",
       "    <tr>\n",
       "      <th>4</th>\n",
       "      <td>3.554975e+09</td>\n",
       "      <td>0.757408</td>\n",
       "      <td>0.223564</td>\n",
       "      <td>-0.390527</td>\n",
       "      <td>0.115529</td>\n",
       "      <td>0.205032</td>\n",
       "      <td>0.060785</td>\n",
       "    </tr>\n",
       "    <tr>\n",
       "      <th>...</th>\n",
       "      <td>...</td>\n",
       "      <td>...</td>\n",
       "      <td>...</td>\n",
       "      <td>...</td>\n",
       "      <td>...</td>\n",
       "      <td>...</td>\n",
       "      <td>...</td>\n",
       "    </tr>\n",
       "    <tr>\n",
       "      <th>103</th>\n",
       "      <td>1.697477e+10</td>\n",
       "      <td>1.004320</td>\n",
       "      <td>0.975365</td>\n",
       "      <td>0.401207</td>\n",
       "      <td>0.956539</td>\n",
       "      <td>1.822256</td>\n",
       "      <td>1.717569</td>\n",
       "    </tr>\n",
       "    <tr>\n",
       "      <th>104</th>\n",
       "      <td>1.748816e+10</td>\n",
       "      <td>1.248737</td>\n",
       "      <td>0.722917</td>\n",
       "      <td>0.452297</td>\n",
       "      <td>0.565465</td>\n",
       "      <td>1.321414</td>\n",
       "      <td>0.741035</td>\n",
       "    </tr>\n",
       "    <tr>\n",
       "      <th>105</th>\n",
       "      <td>1.763210e+10</td>\n",
       "      <td>1.160343</td>\n",
       "      <td>0.708358</td>\n",
       "      <td>0.402014</td>\n",
       "      <td>0.503764</td>\n",
       "      <td>1.217773</td>\n",
       "      <td>0.684279</td>\n",
       "    </tr>\n",
       "    <tr>\n",
       "      <th>106</th>\n",
       "      <td>1.840365e+10</td>\n",
       "      <td>1.208567</td>\n",
       "      <td>0.730630</td>\n",
       "      <td>0.343024</td>\n",
       "      <td>0.492919</td>\n",
       "      <td>1.161769</td>\n",
       "      <td>0.614164</td>\n",
       "    </tr>\n",
       "    <tr>\n",
       "      <th>107</th>\n",
       "      <td>1.927570e+10</td>\n",
       "      <td>1.307185</td>\n",
       "      <td>1.226572</td>\n",
       "      <td>0.285702</td>\n",
       "      <td>0.843814</td>\n",
       "      <td>0.977365</td>\n",
       "      <td>0.957148</td>\n",
       "    </tr>\n",
       "  </tbody>\n",
       "</table>\n",
       "<p>108 rows × 7 columns</p>\n",
       "</div>"
      ],
      "text/plain": [
       "    Inverse Wavelength       H-H                H-He               He-He  \\\n",
       "                   NaN      Mean       Std      Mean       Std      Mean   \n",
       "0         1.589833e+09  1.094792  0.616749 -0.551028  0.310453  0.277975   \n",
       "1         2.248364e+09  0.867479  0.370983 -0.439458  0.187969  0.223957   \n",
       "2         2.753672e+09  0.674642  0.627824 -0.344093  0.321553  0.177615   \n",
       "3         3.179666e+09  0.840883  0.320497 -0.431661  0.164964  0.224423   \n",
       "4         3.554975e+09  0.757408  0.223564 -0.390527  0.115529  0.205032   \n",
       "..                 ...       ...       ...       ...       ...       ...   \n",
       "103       1.697477e+10  1.004320  0.975365  0.401207  0.956539  1.822256   \n",
       "104       1.748816e+10  1.248737  0.722917  0.452297  0.565465  1.321414   \n",
       "105       1.763210e+10  1.160343  0.708358  0.402014  0.503764  1.217773   \n",
       "106       1.840365e+10  1.208567  0.730630  0.343024  0.492919  1.161769   \n",
       "107       1.927570e+10  1.307185  1.226572  0.285702  0.843814  0.977365   \n",
       "\n",
       "               \n",
       "          Std  \n",
       "0    0.156495  \n",
       "1    0.095852  \n",
       "2    0.165672  \n",
       "3    0.086003  \n",
       "4    0.060785  \n",
       "..        ...  \n",
       "103  1.717569  \n",
       "104  0.741035  \n",
       "105  0.684279  \n",
       "106  0.614164  \n",
       "107  0.957148  \n",
       "\n",
       "[108 rows x 7 columns]"
      ]
     },
     "execution_count": 8,
     "metadata": {},
     "output_type": "execute_result"
    }
   ],
   "source": [
    "ssf.compute()\n",
    "ssf.dataframe"
   ]
  },
  {
   "cell_type": "code",
   "execution_count": 9,
   "metadata": {},
   "outputs": [
    {
     "data": {
      "text/plain": [
       "<AxesSubplot:xlabel='$ka$'>"
      ]
     },
     "execution_count": 9,
     "metadata": {},
     "output_type": "execute_result"
    },
    {
     "data": {
      "image/png": "[encoded data removed]",
      "text/plain": [
       "<Figure size 720x504 with 1 Axes>"
      ]
     },
     "metadata": {},
     "output_type": "display_data"
    }
   ],
   "source": [
    "ssf.plot(\n",
    "    scaling = 1 /ssf.a_ws,\n",
    "    y= [('H-H', 'Mean'), ('H-He', 'Mean'), ('He-He', 'Mean')], \n",
    "    xlabel = r'$ka$')"
   ]
  },
  {
   "cell_type": "code",
   "execution_count": 10,
   "metadata": {},
   "outputs": [
    {
     "name": "stdout",
     "output_type": "stream",
     "text": [
      "\n",
      "\n",
      "====================== Dynamic Structure Factor ====================== \n",
      "\n",
      "k wavevector information saved in: \n",
      " Simulations/bim_gamma_40/PostProcessing/k_space_data/k_arrays.npz\n",
      "n(k,t) data saved in: \n",
      " Simulations/bim_gamma_40/PostProcessing/k_space_data/nkt.h5\n",
      "Data saved in: \n",
      " Simulations/bim_gamma_40/PostProcessing/DynamicStructureFactor/Production/DynamicStructureFactor_bim_gamma_40.h5\n",
      "Data accessible at: self.k_list, self.k_counts, self.ka_values, self.frequencies, self.dataframe\n",
      "\n",
      "Frequency Space Parameters:\n",
      "\tNo. of slices = 3\n",
      "\tNo. dumps per slice = 4000\n",
      "\tFrequency step dw = 2 pi (no_slices * prod_dump_step)/(production_steps * dt)\n",
      "\tdw = 0.0101 w_p = 1.6890e+15 [Hz]\n",
      "\tMaximum Frequency w_max = 2 pi /(prod_dump_step * dt)\n",
      "\tw_max = 20.1592 w_p = 3.3781e+18 [Hz]\n",
      "\n",
      "\n",
      "Wavevector parameters:\n",
      "Smallest wavevector k_min = 2 pi / L = 3.9 / N^(1/3)\n",
      "k_min = 0.3898 / a_ws = 1.5898e+09 [1/cm]\n",
      "\n",
      "Angle averaging choice: custom\n",
      "\tMaximum angle averaged k harmonics = n_x, n_y, n_z = 2, 2, 2\n",
      "\tLargest angle averaged k_max = k_min * sqrt( n_x^2 + n_y^2 + n_z^2)\n",
      "\tAA k_max = 1.3502 / a_ws = 5.5073e+09 [1/cm]\n",
      "\tMaximum k harmonics = n_x, n_y, n_z = 12, 12, 12\n",
      "\tLargest wavector k_max = k_min * n_x\n",
      "\tk_max = 4.6773 / a_ws = 1.9078e+10 [1/cm]\n",
      "\n",
      "Total number of k values to calculate = 56\n",
      "No. of unique ka values to calculate = 19\n"
     ]
    }
   ],
   "source": [
    "from sarkas.tools.observables import DynamicStructureFactor\n",
    "\n",
    "dsf = DynamicStructureFactor()\n",
    "dsf.no_slices = 3\n",
    "dsf.angle_averaging = 'custom'\n",
    "dsf.max_aa_ka_value = 2\n",
    "dsf.max_ka_value = 5\n",
    "dsf.setup(postproc.parameters)\n",
    "dsf.pretty_print()\n"
   ]
  },
  {
   "cell_type": "code",
   "execution_count": 11,
   "metadata": {
    "scrolled": false
   },
   "outputs": [
    {
     "name": "stdout",
     "output_type": "stream",
     "text": [
      "\n",
      "Calculating n(k,t) for slice 1/3.\n"
     ]
    },
    {
     "data": {
      "application/vnd.jupyter.widget-view+json": {
       "model_id": "242b39f8f7474da7b3cf812fde5bead3",
       "version_major": 2,
       "version_minor": 0
      },
      "text/plain": [
       "  0%|          | 0/4000 [00:00<?, ?it/s]"
      ]
     },
     "metadata": {},
     "output_type": "display_data"
    },
    {
     "name": "stdout",
     "output_type": "stream",
     "text": [
      "\n",
      "Calculating n(k,t) for slice 2/3.\n"
     ]
    },
    {
     "data": {
      "application/vnd.jupyter.widget-view+json": {
       "model_id": "7537f07a317441bdbea03330c1b4e07b",
       "version_major": 2,
       "version_minor": 0
      },
      "text/plain": [
       "  0%|          | 0/4000 [00:00<?, ?it/s]"
      ]
     },
     "metadata": {},
     "output_type": "display_data"
    },
    {
     "name": "stdout",
     "output_type": "stream",
     "text": [
      "\n",
      "Calculating n(k,t) for slice 3/3.\n"
     ]
    },
    {
     "data": {
      "application/vnd.jupyter.widget-view+json": {
       "model_id": "800909e8e052451eb5aa741c0e5dd5a1",
       "version_major": 2,
       "version_minor": 0
      },
      "text/plain": [
       "  0%|          | 0/4000 [00:00<?, ?it/s]"
      ]
     },
     "metadata": {},
     "output_type": "display_data"
    },
    {
     "name": "stdout",
     "output_type": "stream",
     "text": [
      "\n",
      "n(k,t) Calculation Time: 0 hrs 0 min 34 sec\n",
      "\n",
      "Dynamic Structure Factor Calculation Time: 1 sec 156 msec 438 usec 836 nsec\n"
     ]
    },
    {
     "ename": "ValueError",
     "evalue": "Columns index has to be unique for fixed format",
     "output_type": "error",
     "traceback": [
      "\u001b[0;31m---------------------------------------------------------------------------\u001b[0m",
      "\u001b[0;31mValueError\u001b[0m                                Traceback (most recent call last)",
      "\u001b[0;32m<ipython-input-11-c7cbd0cec1e1>\u001b[0m in \u001b[0;36m<module>\u001b[0;34m\u001b[0m\n\u001b[0;32m----> 1\u001b[0;31m \u001b[0mdsf\u001b[0m\u001b[0;34m.\u001b[0m\u001b[0mcompute\u001b[0m\u001b[0;34m(\u001b[0m\u001b[0;34m)\u001b[0m\u001b[0;34m\u001b[0m\u001b[0;34m\u001b[0m\u001b[0m\n\u001b[0m",
      "\u001b[0;32m~/Documents/Programming/sarkas/sarkas/tools/observables.py\u001b[0m in \u001b[0;36mcompute\u001b[0;34m(self, **kwargs)\u001b[0m\n\u001b[1;32m   1177\u001b[0m             \u001b[0mos\u001b[0m\u001b[0;34m.\u001b[0m\u001b[0mremove\u001b[0m\u001b[0;34m(\u001b[0m\u001b[0mself\u001b[0m\u001b[0;34m.\u001b[0m\u001b[0mfilename_hdf\u001b[0m\u001b[0;34m)\u001b[0m\u001b[0;34m\u001b[0m\u001b[0;34m\u001b[0m\u001b[0m\n\u001b[1;32m   1178\u001b[0m \u001b[0;34m\u001b[0m\u001b[0m\n\u001b[0;32m-> 1179\u001b[0;31m         \u001b[0mself\u001b[0m\u001b[0;34m.\u001b[0m\u001b[0mdataframe\u001b[0m\u001b[0;34m.\u001b[0m\u001b[0mto_hdf\u001b[0m\u001b[0;34m(\u001b[0m\u001b[0mself\u001b[0m\u001b[0;34m.\u001b[0m\u001b[0mfilename_hdf\u001b[0m\u001b[0;34m,\u001b[0m \u001b[0mmode\u001b[0m\u001b[0;34m=\u001b[0m\u001b[0;34m'w'\u001b[0m\u001b[0;34m,\u001b[0m \u001b[0mkey\u001b[0m\u001b[0;34m=\u001b[0m\u001b[0mself\u001b[0m\u001b[0;34m.\u001b[0m\u001b[0m__name__\u001b[0m\u001b[0;34m)\u001b[0m\u001b[0;34m\u001b[0m\u001b[0;34m\u001b[0m\u001b[0m\n\u001b[0m\u001b[1;32m   1180\u001b[0m \u001b[0;34m\u001b[0m\u001b[0m\n\u001b[1;32m   1181\u001b[0m     \u001b[0;32mdef\u001b[0m \u001b[0mpretty_print\u001b[0m\u001b[0;34m(\u001b[0m\u001b[0mself\u001b[0m\u001b[0;34m)\u001b[0m\u001b[0;34m:\u001b[0m\u001b[0;34m\u001b[0m\u001b[0;34m\u001b[0m\u001b[0m\n",
      "\u001b[0;32m~/anaconda3/envs/sarkas/lib/python3.7/site-packages/pandas/core/generic.py\u001b[0m in \u001b[0;36mto_hdf\u001b[0;34m(self, path_or_buf, key, mode, complevel, complib, append, format, index, min_itemsize, nan_rep, dropna, data_columns, errors, encoding)\u001b[0m\n\u001b[1;32m   2619\u001b[0m             \u001b[0mdata_columns\u001b[0m\u001b[0;34m=\u001b[0m\u001b[0mdata_columns\u001b[0m\u001b[0;34m,\u001b[0m\u001b[0;34m\u001b[0m\u001b[0;34m\u001b[0m\u001b[0m\n\u001b[1;32m   2620\u001b[0m             \u001b[0merrors\u001b[0m\u001b[0;34m=\u001b[0m\u001b[0merrors\u001b[0m\u001b[0;34m,\u001b[0m\u001b[0;34m\u001b[0m\u001b[0;34m\u001b[0m\u001b[0m\n\u001b[0;32m-> 2621\u001b[0;31m             \u001b[0mencoding\u001b[0m\u001b[0;34m=\u001b[0m\u001b[0mencoding\u001b[0m\u001b[0;34m,\u001b[0m\u001b[0;34m\u001b[0m\u001b[0;34m\u001b[0m\u001b[0m\n\u001b[0m\u001b[1;32m   2622\u001b[0m         )\n\u001b[1;32m   2623\u001b[0m \u001b[0;34m\u001b[0m\u001b[0m\n",
      "\u001b[0;32m~/anaconda3/envs/sarkas/lib/python3.7/site-packages/pandas/io/pytables.py\u001b[0m in \u001b[0;36mto_hdf\u001b[0;34m(path_or_buf, key, value, mode, complevel, complib, append, format, index, min_itemsize, nan_rep, dropna, data_columns, errors, encoding)\u001b[0m\n\u001b[1;32m    278\u001b[0m             \u001b[0mpath_or_buf\u001b[0m\u001b[0;34m,\u001b[0m \u001b[0mmode\u001b[0m\u001b[0;34m=\u001b[0m\u001b[0mmode\u001b[0m\u001b[0;34m,\u001b[0m \u001b[0mcomplevel\u001b[0m\u001b[0;34m=\u001b[0m\u001b[0mcomplevel\u001b[0m\u001b[0;34m,\u001b[0m \u001b[0mcomplib\u001b[0m\u001b[0;34m=\u001b[0m\u001b[0mcomplib\u001b[0m\u001b[0;34m\u001b[0m\u001b[0;34m\u001b[0m\u001b[0m\n\u001b[1;32m    279\u001b[0m         ) as store:\n\u001b[0;32m--> 280\u001b[0;31m             \u001b[0mf\u001b[0m\u001b[0;34m(\u001b[0m\u001b[0mstore\u001b[0m\u001b[0;34m)\u001b[0m\u001b[0;34m\u001b[0m\u001b[0;34m\u001b[0m\u001b[0m\n\u001b[0m\u001b[1;32m    281\u001b[0m     \u001b[0;32melse\u001b[0m\u001b[0;34m:\u001b[0m\u001b[0;34m\u001b[0m\u001b[0;34m\u001b[0m\u001b[0m\n\u001b[1;32m    282\u001b[0m         \u001b[0mf\u001b[0m\u001b[0;34m(\u001b[0m\u001b[0mpath_or_buf\u001b[0m\u001b[0;34m)\u001b[0m\u001b[0;34m\u001b[0m\u001b[0;34m\u001b[0m\u001b[0m\n",
      "\u001b[0;32m~/anaconda3/envs/sarkas/lib/python3.7/site-packages/pandas/io/pytables.py\u001b[0m in \u001b[0;36m<lambda>\u001b[0;34m(store)\u001b[0m\n\u001b[1;32m    270\u001b[0m             \u001b[0merrors\u001b[0m\u001b[0;34m=\u001b[0m\u001b[0merrors\u001b[0m\u001b[0;34m,\u001b[0m\u001b[0;34m\u001b[0m\u001b[0;34m\u001b[0m\u001b[0m\n\u001b[1;32m    271\u001b[0m             \u001b[0mencoding\u001b[0m\u001b[0;34m=\u001b[0m\u001b[0mencoding\u001b[0m\u001b[0;34m,\u001b[0m\u001b[0;34m\u001b[0m\u001b[0;34m\u001b[0m\u001b[0m\n\u001b[0;32m--> 272\u001b[0;31m             \u001b[0mdropna\u001b[0m\u001b[0;34m=\u001b[0m\u001b[0mdropna\u001b[0m\u001b[0;34m,\u001b[0m\u001b[0;34m\u001b[0m\u001b[0;34m\u001b[0m\u001b[0m\n\u001b[0m\u001b[1;32m    273\u001b[0m         )\n\u001b[1;32m    274\u001b[0m \u001b[0;34m\u001b[0m\u001b[0m\n",
      "\u001b[0;32m~/anaconda3/envs/sarkas/lib/python3.7/site-packages/pandas/io/pytables.py\u001b[0m in \u001b[0;36mput\u001b[0;34m(self, key, value, format, index, append, complib, complevel, min_itemsize, nan_rep, data_columns, encoding, errors, track_times, dropna)\u001b[0m\n\u001b[1;32m   1104\u001b[0m             \u001b[0merrors\u001b[0m\u001b[0;34m=\u001b[0m\u001b[0merrors\u001b[0m\u001b[0;34m,\u001b[0m\u001b[0;34m\u001b[0m\u001b[0;34m\u001b[0m\u001b[0m\n\u001b[1;32m   1105\u001b[0m             \u001b[0mtrack_times\u001b[0m\u001b[0;34m=\u001b[0m\u001b[0mtrack_times\u001b[0m\u001b[0;34m,\u001b[0m\u001b[0;34m\u001b[0m\u001b[0;34m\u001b[0m\u001b[0m\n\u001b[0;32m-> 1106\u001b[0;31m             \u001b[0mdropna\u001b[0m\u001b[0;34m=\u001b[0m\u001b[0mdropna\u001b[0m\u001b[0;34m,\u001b[0m\u001b[0;34m\u001b[0m\u001b[0;34m\u001b[0m\u001b[0m\n\u001b[0m\u001b[1;32m   1107\u001b[0m         )\n\u001b[1;32m   1108\u001b[0m \u001b[0;34m\u001b[0m\u001b[0m\n",
      "\u001b[0;32m~/anaconda3/envs/sarkas/lib/python3.7/site-packages/pandas/io/pytables.py\u001b[0m in \u001b[0;36m_write_to_group\u001b[0;34m(self, key, value, format, axes, index, append, complib, complevel, fletcher32, min_itemsize, chunksize, expectedrows, dropna, nan_rep, data_columns, encoding, errors, track_times)\u001b[0m\n\u001b[1;32m   1753\u001b[0m             \u001b[0mnan_rep\u001b[0m\u001b[0;34m=\u001b[0m\u001b[0mnan_rep\u001b[0m\u001b[0;34m,\u001b[0m\u001b[0;34m\u001b[0m\u001b[0;34m\u001b[0m\u001b[0m\n\u001b[1;32m   1754\u001b[0m             \u001b[0mdata_columns\u001b[0m\u001b[0;34m=\u001b[0m\u001b[0mdata_columns\u001b[0m\u001b[0;34m,\u001b[0m\u001b[0;34m\u001b[0m\u001b[0;34m\u001b[0m\u001b[0m\n\u001b[0;32m-> 1755\u001b[0;31m             \u001b[0mtrack_times\u001b[0m\u001b[0;34m=\u001b[0m\u001b[0mtrack_times\u001b[0m\u001b[0;34m,\u001b[0m\u001b[0;34m\u001b[0m\u001b[0;34m\u001b[0m\u001b[0m\n\u001b[0m\u001b[1;32m   1756\u001b[0m         )\n\u001b[1;32m   1757\u001b[0m \u001b[0;34m\u001b[0m\u001b[0m\n",
      "\u001b[0;32m~/anaconda3/envs/sarkas/lib/python3.7/site-packages/pandas/io/pytables.py\u001b[0m in \u001b[0;36mwrite\u001b[0;34m(self, obj, **kwargs)\u001b[0m\n\u001b[1;32m   3165\u001b[0m         \u001b[0;32mfor\u001b[0m \u001b[0mi\u001b[0m\u001b[0;34m,\u001b[0m \u001b[0max\u001b[0m \u001b[0;32min\u001b[0m \u001b[0menumerate\u001b[0m\u001b[0;34m(\u001b[0m\u001b[0mdata\u001b[0m\u001b[0;34m.\u001b[0m\u001b[0maxes\u001b[0m\u001b[0;34m)\u001b[0m\u001b[0;34m:\u001b[0m\u001b[0;34m\u001b[0m\u001b[0;34m\u001b[0m\u001b[0m\n\u001b[1;32m   3166\u001b[0m             \u001b[0;32mif\u001b[0m \u001b[0mi\u001b[0m \u001b[0;34m==\u001b[0m \u001b[0;36m0\u001b[0m \u001b[0;32mand\u001b[0m \u001b[0;34m(\u001b[0m\u001b[0;32mnot\u001b[0m \u001b[0max\u001b[0m\u001b[0;34m.\u001b[0m\u001b[0mis_unique\u001b[0m\u001b[0;34m)\u001b[0m\u001b[0;34m:\u001b[0m\u001b[0;34m\u001b[0m\u001b[0;34m\u001b[0m\u001b[0m\n\u001b[0;32m-> 3167\u001b[0;31m                 \u001b[0;32mraise\u001b[0m \u001b[0mValueError\u001b[0m\u001b[0;34m(\u001b[0m\u001b[0;34m\"Columns index has to be unique for fixed format\"\u001b[0m\u001b[0;34m)\u001b[0m\u001b[0;34m\u001b[0m\u001b[0;34m\u001b[0m\u001b[0m\n\u001b[0m\u001b[1;32m   3168\u001b[0m             \u001b[0mself\u001b[0m\u001b[0;34m.\u001b[0m\u001b[0mwrite_index\u001b[0m\u001b[0;34m(\u001b[0m\u001b[0;34mf\"axis{i}\"\u001b[0m\u001b[0;34m,\u001b[0m \u001b[0max\u001b[0m\u001b[0;34m)\u001b[0m\u001b[0;34m\u001b[0m\u001b[0;34m\u001b[0m\u001b[0m\n\u001b[1;32m   3169\u001b[0m \u001b[0;34m\u001b[0m\u001b[0m\n",
      "\u001b[0;31mValueError\u001b[0m: Columns index has to be unique for fixed format"
     ]
    }
   ],
   "source": [
    "dsf.compute()"
   ]
  },
  {
   "cell_type": "code",
   "execution_count": 12,
   "metadata": {},
   "outputs": [
    {
     "data": {
      "text/html": [
       "<div>\n",
       "<style scoped>\n",
       "    .dataframe tbody tr th:only-of-type {\n",
       "        vertical-align: middle;\n",
       "    }\n",
       "\n",
       "    .dataframe tbody tr th {\n",
       "        vertical-align: top;\n",
       "    }\n",
       "\n",
       "    .dataframe thead tr th {\n",
       "        text-align: left;\n",
       "    }\n",
       "</style>\n",
       "<table border=\"1\" class=\"dataframe\">\n",
       "  <thead>\n",
       "    <tr>\n",
       "      <th></th>\n",
       "      <th></th>\n",
       "      <th colspan=\"9\" halign=\"left\">H-H</th>\n",
       "      <th>...</th>\n",
       "      <th colspan=\"10\" halign=\"left\">He-He</th>\n",
       "    </tr>\n",
       "    <tr>\n",
       "      <th></th>\n",
       "      <th></th>\n",
       "      <th colspan=\"9\" halign=\"left\">Mean</th>\n",
       "      <th>...</th>\n",
       "      <th colspan=\"10\" halign=\"left\">Std</th>\n",
       "    </tr>\n",
       "    <tr>\n",
       "      <th></th>\n",
       "      <th>Frequencies</th>\n",
       "      <th>ka = 0.389778</th>\n",
       "      <th>ka = 0.551229</th>\n",
       "      <th>ka = 0.675115</th>\n",
       "      <th>ka = 0.779555</th>\n",
       "      <th>ka = 0.871569</th>\n",
       "      <th>ka = 0.954757</th>\n",
       "      <th>ka = 0.954757</th>\n",
       "      <th>ka = 1.102458</th>\n",
       "      <th>ka = 1.169333</th>\n",
       "      <th>...</th>\n",
       "      <th>ka = 1.169333</th>\n",
       "      <th>ka = 1.350230</th>\n",
       "      <th>ka = 1.559111</th>\n",
       "      <th>ka = 1.948889</th>\n",
       "      <th>ka = 2.338666</th>\n",
       "      <th>ka = 2.728444</th>\n",
       "      <th>ka = 3.118222</th>\n",
       "      <th>ka = 3.507999</th>\n",
       "      <th>ka = 3.897777</th>\n",
       "      <th>ka = 4.287555</th>\n",
       "    </tr>\n",
       "  </thead>\n",
       "  <tbody>\n",
       "    <tr>\n",
       "      <th>0</th>\n",
       "      <td>-3.378057e+18</td>\n",
       "      <td>1.044151e-23</td>\n",
       "      <td>1.628263e-23</td>\n",
       "      <td>4.345452e-24</td>\n",
       "      <td>1.436664e-23</td>\n",
       "      <td>8.560134e-24</td>\n",
       "      <td>1.490454e-23</td>\n",
       "      <td>5.972285e-24</td>\n",
       "      <td>8.908793e-24</td>\n",
       "      <td>4.860503e-24</td>\n",
       "      <td>...</td>\n",
       "      <td>1.119472e-24</td>\n",
       "      <td>2.096197e-24</td>\n",
       "      <td>5.621189e-24</td>\n",
       "      <td>4.916269e-24</td>\n",
       "      <td>3.683165e-24</td>\n",
       "      <td>5.712330e-24</td>\n",
       "      <td>1.192017e-23</td>\n",
       "      <td>2.168552e-23</td>\n",
       "      <td>1.417874e-23</td>\n",
       "      <td>1.195947e-23</td>\n",
       "    </tr>\n",
       "    <tr>\n",
       "      <th>1</th>\n",
       "      <td>-3.376368e+18</td>\n",
       "      <td>1.044151e-23</td>\n",
       "      <td>1.628264e-23</td>\n",
       "      <td>4.345455e-24</td>\n",
       "      <td>1.436665e-23</td>\n",
       "      <td>8.560109e-24</td>\n",
       "      <td>1.490454e-23</td>\n",
       "      <td>5.972328e-24</td>\n",
       "      <td>8.908822e-24</td>\n",
       "      <td>4.860451e-24</td>\n",
       "      <td>...</td>\n",
       "      <td>1.119473e-24</td>\n",
       "      <td>2.096173e-24</td>\n",
       "      <td>5.621135e-24</td>\n",
       "      <td>4.916233e-24</td>\n",
       "      <td>3.683179e-24</td>\n",
       "      <td>5.712311e-24</td>\n",
       "      <td>1.192029e-23</td>\n",
       "      <td>2.168535e-23</td>\n",
       "      <td>1.417868e-23</td>\n",
       "      <td>1.195941e-23</td>\n",
       "    </tr>\n",
       "    <tr>\n",
       "      <th>2</th>\n",
       "      <td>-3.374679e+18</td>\n",
       "      <td>1.044152e-23</td>\n",
       "      <td>1.628267e-23</td>\n",
       "      <td>4.345463e-24</td>\n",
       "      <td>1.436667e-23</td>\n",
       "      <td>8.560095e-24</td>\n",
       "      <td>1.490456e-23</td>\n",
       "      <td>5.972379e-24</td>\n",
       "      <td>8.908861e-24</td>\n",
       "      <td>4.860405e-24</td>\n",
       "      <td>...</td>\n",
       "      <td>1.119476e-24</td>\n",
       "      <td>2.096151e-24</td>\n",
       "      <td>5.621088e-24</td>\n",
       "      <td>4.916203e-24</td>\n",
       "      <td>3.683196e-24</td>\n",
       "      <td>5.712298e-24</td>\n",
       "      <td>1.192042e-23</td>\n",
       "      <td>2.168520e-23</td>\n",
       "      <td>1.417863e-23</td>\n",
       "      <td>1.195936e-23</td>\n",
       "    </tr>\n",
       "    <tr>\n",
       "      <th>3</th>\n",
       "      <td>-3.372990e+18</td>\n",
       "      <td>1.044154e-23</td>\n",
       "      <td>1.628273e-23</td>\n",
       "      <td>4.345477e-24</td>\n",
       "      <td>1.436671e-23</td>\n",
       "      <td>8.560092e-24</td>\n",
       "      <td>1.490460e-23</td>\n",
       "      <td>5.972437e-24</td>\n",
       "      <td>8.908912e-24</td>\n",
       "      <td>4.860365e-24</td>\n",
       "      <td>...</td>\n",
       "      <td>1.119481e-24</td>\n",
       "      <td>2.096132e-24</td>\n",
       "      <td>5.621048e-24</td>\n",
       "      <td>4.916180e-24</td>\n",
       "      <td>3.683219e-24</td>\n",
       "      <td>5.712292e-24</td>\n",
       "      <td>1.192056e-23</td>\n",
       "      <td>2.168508e-23</td>\n",
       "      <td>1.417860e-23</td>\n",
       "      <td>1.195932e-23</td>\n",
       "    </tr>\n",
       "    <tr>\n",
       "      <th>4</th>\n",
       "      <td>-3.371301e+18</td>\n",
       "      <td>1.044158e-23</td>\n",
       "      <td>1.628280e-23</td>\n",
       "      <td>4.345496e-24</td>\n",
       "      <td>1.436677e-23</td>\n",
       "      <td>8.560099e-24</td>\n",
       "      <td>1.490466e-23</td>\n",
       "      <td>5.972502e-24</td>\n",
       "      <td>8.908973e-24</td>\n",
       "      <td>4.860331e-24</td>\n",
       "      <td>...</td>\n",
       "      <td>1.119487e-24</td>\n",
       "      <td>2.096115e-24</td>\n",
       "      <td>5.621015e-24</td>\n",
       "      <td>4.916162e-24</td>\n",
       "      <td>3.683246e-24</td>\n",
       "      <td>5.712293e-24</td>\n",
       "      <td>1.192072e-23</td>\n",
       "      <td>2.168498e-23</td>\n",
       "      <td>1.417859e-23</td>\n",
       "      <td>1.195930e-23</td>\n",
       "    </tr>\n",
       "    <tr>\n",
       "      <th>...</th>\n",
       "      <td>...</td>\n",
       "      <td>...</td>\n",
       "      <td>...</td>\n",
       "      <td>...</td>\n",
       "      <td>...</td>\n",
       "      <td>...</td>\n",
       "      <td>...</td>\n",
       "      <td>...</td>\n",
       "      <td>...</td>\n",
       "      <td>...</td>\n",
       "      <td>...</td>\n",
       "      <td>...</td>\n",
       "      <td>...</td>\n",
       "      <td>...</td>\n",
       "      <td>...</td>\n",
       "      <td>...</td>\n",
       "      <td>...</td>\n",
       "      <td>...</td>\n",
       "      <td>...</td>\n",
       "      <td>...</td>\n",
       "      <td>...</td>\n",
       "    </tr>\n",
       "    <tr>\n",
       "      <th>3995</th>\n",
       "      <td>3.369611e+18</td>\n",
       "      <td>1.044171e-23</td>\n",
       "      <td>1.628286e-23</td>\n",
       "      <td>4.345518e-24</td>\n",
       "      <td>1.436687e-23</td>\n",
       "      <td>8.560416e-24</td>\n",
       "      <td>1.490481e-23</td>\n",
       "      <td>5.972180e-24</td>\n",
       "      <td>8.908815e-24</td>\n",
       "      <td>4.860854e-24</td>\n",
       "      <td>...</td>\n",
       "      <td>1.119484e-24</td>\n",
       "      <td>2.096358e-24</td>\n",
       "      <td>5.621562e-24</td>\n",
       "      <td>4.916538e-24</td>\n",
       "      <td>3.683166e-24</td>\n",
       "      <td>5.712536e-24</td>\n",
       "      <td>1.191981e-23</td>\n",
       "      <td>2.168680e-23</td>\n",
       "      <td>1.417934e-23</td>\n",
       "      <td>1.196002e-23</td>\n",
       "    </tr>\n",
       "    <tr>\n",
       "      <th>3996</th>\n",
       "      <td>3.371301e+18</td>\n",
       "      <td>1.044165e-23</td>\n",
       "      <td>1.628277e-23</td>\n",
       "      <td>4.345494e-24</td>\n",
       "      <td>1.436679e-23</td>\n",
       "      <td>8.560338e-24</td>\n",
       "      <td>1.490472e-23</td>\n",
       "      <td>5.972187e-24</td>\n",
       "      <td>8.908789e-24</td>\n",
       "      <td>4.860772e-24</td>\n",
       "      <td>...</td>\n",
       "      <td>1.119479e-24</td>\n",
       "      <td>2.096321e-24</td>\n",
       "      <td>5.621473e-24</td>\n",
       "      <td>4.916472e-24</td>\n",
       "      <td>3.683157e-24</td>\n",
       "      <td>5.712480e-24</td>\n",
       "      <td>1.191985e-23</td>\n",
       "      <td>2.168649e-23</td>\n",
       "      <td>1.417918e-23</td>\n",
       "      <td>1.195988e-23</td>\n",
       "    </tr>\n",
       "    <tr>\n",
       "      <th>3997</th>\n",
       "      <td>3.372990e+18</td>\n",
       "      <td>1.044159e-23</td>\n",
       "      <td>1.628271e-23</td>\n",
       "      <td>4.345476e-24</td>\n",
       "      <td>1.436672e-23</td>\n",
       "      <td>8.560272e-24</td>\n",
       "      <td>1.490465e-23</td>\n",
       "      <td>5.972200e-24</td>\n",
       "      <td>8.908773e-24</td>\n",
       "      <td>4.860696e-24</td>\n",
       "      <td>...</td>\n",
       "      <td>1.119475e-24</td>\n",
       "      <td>2.096286e-24</td>\n",
       "      <td>5.621392e-24</td>\n",
       "      <td>4.916412e-24</td>\n",
       "      <td>3.683152e-24</td>\n",
       "      <td>5.712432e-24</td>\n",
       "      <td>1.191991e-23</td>\n",
       "      <td>2.168621e-23</td>\n",
       "      <td>1.417905e-23</td>\n",
       "      <td>1.195976e-23</td>\n",
       "    </tr>\n",
       "    <tr>\n",
       "      <th>3998</th>\n",
       "      <td>3.374679e+18</td>\n",
       "      <td>1.044155e-23</td>\n",
       "      <td>1.628266e-23</td>\n",
       "      <td>4.345462e-24</td>\n",
       "      <td>1.436668e-23</td>\n",
       "      <td>8.560215e-24</td>\n",
       "      <td>1.490459e-23</td>\n",
       "      <td>5.972221e-24</td>\n",
       "      <td>8.908769e-24</td>\n",
       "      <td>4.860626e-24</td>\n",
       "      <td>...</td>\n",
       "      <td>1.119472e-24</td>\n",
       "      <td>2.096254e-24</td>\n",
       "      <td>5.621317e-24</td>\n",
       "      <td>4.916358e-24</td>\n",
       "      <td>3.683152e-24</td>\n",
       "      <td>5.712391e-24</td>\n",
       "      <td>1.191998e-23</td>\n",
       "      <td>2.168595e-23</td>\n",
       "      <td>1.417893e-23</td>\n",
       "      <td>1.195965e-23</td>\n",
       "    </tr>\n",
       "    <tr>\n",
       "      <th>3999</th>\n",
       "      <td>3.376368e+18</td>\n",
       "      <td>1.044152e-23</td>\n",
       "      <td>1.628263e-23</td>\n",
       "      <td>4.345455e-24</td>\n",
       "      <td>1.436665e-23</td>\n",
       "      <td>8.560169e-24</td>\n",
       "      <td>1.490456e-23</td>\n",
       "      <td>5.972250e-24</td>\n",
       "      <td>8.908776e-24</td>\n",
       "      <td>4.860562e-24</td>\n",
       "      <td>...</td>\n",
       "      <td>1.119471e-24</td>\n",
       "      <td>2.096224e-24</td>\n",
       "      <td>5.621249e-24</td>\n",
       "      <td>4.916310e-24</td>\n",
       "      <td>3.683156e-24</td>\n",
       "      <td>5.712357e-24</td>\n",
       "      <td>1.192007e-23</td>\n",
       "      <td>2.168572e-23</td>\n",
       "      <td>1.417883e-23</td>\n",
       "      <td>1.195956e-23</td>\n",
       "    </tr>\n",
       "  </tbody>\n",
       "</table>\n",
       "<p>4000 rows × 109 columns</p>\n",
       "</div>"
      ],
      "text/plain": [
       "                             H-H                                            \\\n",
       "                            Mean                                             \n",
       "       Frequencies ka = 0.389778 ka = 0.551229 ka = 0.675115 ka = 0.779555   \n",
       "0    -3.378057e+18  1.044151e-23  1.628263e-23  4.345452e-24  1.436664e-23   \n",
       "1    -3.376368e+18  1.044151e-23  1.628264e-23  4.345455e-24  1.436665e-23   \n",
       "2    -3.374679e+18  1.044152e-23  1.628267e-23  4.345463e-24  1.436667e-23   \n",
       "3    -3.372990e+18  1.044154e-23  1.628273e-23  4.345477e-24  1.436671e-23   \n",
       "4    -3.371301e+18  1.044158e-23  1.628280e-23  4.345496e-24  1.436677e-23   \n",
       "...            ...           ...           ...           ...           ...   \n",
       "3995  3.369611e+18  1.044171e-23  1.628286e-23  4.345518e-24  1.436687e-23   \n",
       "3996  3.371301e+18  1.044165e-23  1.628277e-23  4.345494e-24  1.436679e-23   \n",
       "3997  3.372990e+18  1.044159e-23  1.628271e-23  4.345476e-24  1.436672e-23   \n",
       "3998  3.374679e+18  1.044155e-23  1.628266e-23  4.345462e-24  1.436668e-23   \n",
       "3999  3.376368e+18  1.044152e-23  1.628263e-23  4.345455e-24  1.436665e-23   \n",
       "\n",
       "                                                                            \\\n",
       "                                                                             \n",
       "     ka = 0.871569 ka = 0.954757 ka = 0.954757 ka = 1.102458 ka = 1.169333   \n",
       "0     8.560134e-24  1.490454e-23  5.972285e-24  8.908793e-24  4.860503e-24   \n",
       "1     8.560109e-24  1.490454e-23  5.972328e-24  8.908822e-24  4.860451e-24   \n",
       "2     8.560095e-24  1.490456e-23  5.972379e-24  8.908861e-24  4.860405e-24   \n",
       "3     8.560092e-24  1.490460e-23  5.972437e-24  8.908912e-24  4.860365e-24   \n",
       "4     8.560099e-24  1.490466e-23  5.972502e-24  8.908973e-24  4.860331e-24   \n",
       "...            ...           ...           ...           ...           ...   \n",
       "3995  8.560416e-24  1.490481e-23  5.972180e-24  8.908815e-24  4.860854e-24   \n",
       "3996  8.560338e-24  1.490472e-23  5.972187e-24  8.908789e-24  4.860772e-24   \n",
       "3997  8.560272e-24  1.490465e-23  5.972200e-24  8.908773e-24  4.860696e-24   \n",
       "3998  8.560215e-24  1.490459e-23  5.972221e-24  8.908769e-24  4.860626e-24   \n",
       "3999  8.560169e-24  1.490456e-23  5.972250e-24  8.908776e-24  4.860562e-24   \n",
       "\n",
       "      ...         He-He                                            \\\n",
       "      ...           Std                                             \n",
       "      ... ka = 1.169333 ka = 1.350230 ka = 1.559111 ka = 1.948889   \n",
       "0     ...  1.119472e-24  2.096197e-24  5.621189e-24  4.916269e-24   \n",
       "1     ...  1.119473e-24  2.096173e-24  5.621135e-24  4.916233e-24   \n",
       "2     ...  1.119476e-24  2.096151e-24  5.621088e-24  4.916203e-24   \n",
       "3     ...  1.119481e-24  2.096132e-24  5.621048e-24  4.916180e-24   \n",
       "4     ...  1.119487e-24  2.096115e-24  5.621015e-24  4.916162e-24   \n",
       "...   ...           ...           ...           ...           ...   \n",
       "3995  ...  1.119484e-24  2.096358e-24  5.621562e-24  4.916538e-24   \n",
       "3996  ...  1.119479e-24  2.096321e-24  5.621473e-24  4.916472e-24   \n",
       "3997  ...  1.119475e-24  2.096286e-24  5.621392e-24  4.916412e-24   \n",
       "3998  ...  1.119472e-24  2.096254e-24  5.621317e-24  4.916358e-24   \n",
       "3999  ...  1.119471e-24  2.096224e-24  5.621249e-24  4.916310e-24   \n",
       "\n",
       "                                                                            \\\n",
       "                                                                             \n",
       "     ka = 2.338666 ka = 2.728444 ka = 3.118222 ka = 3.507999 ka = 3.897777   \n",
       "0     3.683165e-24  5.712330e-24  1.192017e-23  2.168552e-23  1.417874e-23   \n",
       "1     3.683179e-24  5.712311e-24  1.192029e-23  2.168535e-23  1.417868e-23   \n",
       "2     3.683196e-24  5.712298e-24  1.192042e-23  2.168520e-23  1.417863e-23   \n",
       "3     3.683219e-24  5.712292e-24  1.192056e-23  2.168508e-23  1.417860e-23   \n",
       "4     3.683246e-24  5.712293e-24  1.192072e-23  2.168498e-23  1.417859e-23   \n",
       "...            ...           ...           ...           ...           ...   \n",
       "3995  3.683166e-24  5.712536e-24  1.191981e-23  2.168680e-23  1.417934e-23   \n",
       "3996  3.683157e-24  5.712480e-24  1.191985e-23  2.168649e-23  1.417918e-23   \n",
       "3997  3.683152e-24  5.712432e-24  1.191991e-23  2.168621e-23  1.417905e-23   \n",
       "3998  3.683152e-24  5.712391e-24  1.191998e-23  2.168595e-23  1.417893e-23   \n",
       "3999  3.683156e-24  5.712357e-24  1.192007e-23  2.168572e-23  1.417883e-23   \n",
       "\n",
       "                    \n",
       "                    \n",
       "     ka = 4.287555  \n",
       "0     1.195947e-23  \n",
       "1     1.195941e-23  \n",
       "2     1.195936e-23  \n",
       "3     1.195932e-23  \n",
       "4     1.195930e-23  \n",
       "...            ...  \n",
       "3995  1.196002e-23  \n",
       "3996  1.195988e-23  \n",
       "3997  1.195976e-23  \n",
       "3998  1.195965e-23  \n",
       "3999  1.195956e-23  \n",
       "\n",
       "[4000 rows x 109 columns]"
      ]
     },
     "execution_count": 12,
     "metadata": {},
     "output_type": "execute_result"
    }
   ],
   "source": [
    "dsf.dataframe"
   ]
  },
  {
   "cell_type": "code",
   "execution_count": null,
   "metadata": {
    "scrolled": false
   },
   "outputs": [],
   "source": [
    "dsf.plot(\n",
    "    scaling = dsf.total_plasma_frequency, \n",
    "    y= [('H-H', 'Mean','ka = 0.389778'), ('H-He', 'Mean','ka = 0.389778'), ('He-He', 'Mean','ka = 0.389778')], \n",
    "    logy = True, \n",
    "    xlim = (-3, 3), \n",
    "    xlabel = r'$\\omega /\\omega_p$')\n"
   ]
  },
  {
   "cell_type": "code",
   "execution_count": null,
   "metadata": {},
   "outputs": [],
   "source": [
    "ax = dsf.plot(\n",
    "    scaling = dsf.total_plasma_frequency,\n",
    "    y=('H-H', 'Mean', 'ka = 0.779555'),\n",
    "    logy = True,\n",
    "    xlim=(-3, 3),\n",
    "    xlabel = r'$\\omega / \\omega_p$')\n",
    "\n",
    "ax.fill_between(\n",
    "    dsf.dataframe.iloc[:,0] / dsf.total_plasma_frequency,\n",
    "    abs(dsf.dataframe[('H-H','Mean','ka = 0.779555')] - dsf.dataframe[('H-H','Std','ka = 0.779555')]),\n",
    "    abs(dsf.dataframe['H-H']['Mean']['ka = 0.779555'] + dsf.dataframe[('H-H','Std','ka = 0.779555')]),\n",
    "               alpha = 0.2)"
   ]
  },
  {
   "cell_type": "code",
   "execution_count": null,
   "metadata": {},
   "outputs": [],
   "source": []
  }
 ],
 "metadata": {
  "kernelspec": {
   "display_name": "Python 3",
   "language": "python",
   "name": "python3"
  },
  "language_info": {
   "codemirror_mode": {
    "name": "ipython",
    "version": 3
   },
   "file_extension": ".py",
   "mimetype": "text/x-python",
   "name": "python",
   "nbconvert_exporter": "python",
   "pygments_lexer": "ipython3",
   "version": "3.7.10"
  }
 },
 "nbformat": 4,
 "nbformat_minor": 4
}
