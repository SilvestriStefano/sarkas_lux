{
 "cells": [
  {
   "cell_type": "code",
   "execution_count": 1,
   "id": "restricted-tuition",
   "metadata": {},
   "outputs": [
    {
     "name": "stdout",
     "output_type": "stream",
     "text": [
      "Using matplotlib backend: TkAgg\n",
      "Populating the interactive namespace from numpy and matplotlib\n"
     ]
    }
   ],
   "source": [
    "# Import the usual libraries\n",
    "%pylab\n",
    "%matplotlib inline\n",
    "import os\n",
    "\n",
    "plt.style.use('MSUstyle')\n",
    "\n",
    "# Import sarkas\n",
    "from sarkas.processes import PostProcess\n",
    "# Create the file path to the YAML input file\n",
    "example_directory = os.path.join('..',\n",
    "                                 os.path.join('sarkas',\n",
    "                                              os.path.join('examples','Coulomb')))\n",
    "\n",
    "input_file_name = os.path.join(example_directory, 'BIM_cgs.yaml')"
   ]
  },
  {
   "cell_type": "code",
   "execution_count": 2,
   "id": "suburban-interpretation",
   "metadata": {},
   "outputs": [
    {
     "name": "stdout",
     "output_type": "stream",
     "text": [
      "\n",
      "\n",
      "\n",
      "* * * * * * * * * * * * * * * * * * * * * * * * * * * * * * * * * * * * * * * * * * * * * * * * * *\n",
      "                                 Postprocessing                                 \n",
      "* * * * * * * * * * * * * * * * * * * * * * * * * * * * * * * * * * * * * * * * * * * * * * * * * *\n",
      "\n",
      "Job ID:  bim_gamma_40\n",
      "Job directory:  Simulations/bim_gamma_40\n",
      "Equilibration dumps directory:  Simulations/bim_gamma_40/Simulation/Equilibration/dumps\n",
      "Production dumps directory:  Simulations/bim_gamma_40/Simulation/Production/dumps\n",
      "PostProcessing directory:  Simulations/bim_gamma_40/PostProcessing\n"
     ]
    }
   ],
   "source": [
    "# Let's initialize the class\n",
    "postproc = PostProcess(input_file_name)\n",
    "postproc.setup(read_yaml=True)"
   ]
  },
  {
   "cell_type": "code",
   "execution_count": 51,
   "id": "forty-graduate",
   "metadata": {},
   "outputs": [
    {
     "ename": "IndentationError",
     "evalue": "expected an indented block (<ipython-input-51-84a7d82062a1>, line 91)",
     "output_type": "error",
     "traceback": [
      "\u001b[0;36m  File \u001b[0;32m\"<ipython-input-51-84a7d82062a1>\"\u001b[0;36m, line \u001b[0;32m91\u001b[0m\n\u001b[0;31m    print(i, k)\u001b[0m\n\u001b[0m        ^\u001b[0m\n\u001b[0;31mIndentationError\u001b[0m\u001b[0;31m:\u001b[0m expected an indented block\n"
     ]
    }
   ],
   "source": [
    "def kspace_setup(box_lengths, angle_averaging, max_k_harmonics, max_aa_harmonics):\n",
    "    \"\"\"\n",
    "    Calculate all allowed :math:`k` vectors.\n",
    "\n",
    "    Parameters\n",
    "    ----------\n",
    "    max_k_harmonics : numpy.ndarray\n",
    "        Number of harmonics in each direction.\n",
    "\n",
    "    box_lengths : numpy.ndarray\n",
    "        Length of each box's side.\n",
    "\n",
    "    angle_averaging : str\n",
    "        Flag for calculating all the possible `k` vector directions and magnitudes. Default = 'principal_axis'\n",
    "\n",
    "    max_aa_harmonics : numpy.ndarray\n",
    "        Maximum `k` harmonics in each direction for angle average.\n",
    "\n",
    "    Returns\n",
    "    -------\n",
    "    k_arr : list\n",
    "        List of all possible combination of :math:`(n_x, n_y, n_z)` with their corresponding magnitudes and indexes.\n",
    "\n",
    "    k_counts : numpy.ndarray\n",
    "        Number of occurrences of each triplet :math:`(n_x, n_y, n_z)` magnitude.\n",
    "\n",
    "    k_unique : numpy.ndarray\n",
    "        Magnitude of the unique allowed triplet :math:`(n_x, n_y, n_z)`.\n",
    "    \"\"\"\n",
    "    if angle_averaging == 'full':\n",
    "        # The first value of k_arr = [0, 0, 0]\n",
    "        first_non_zero = 1\n",
    "        # Obtain all possible permutations of the wave number arrays\n",
    "        k_arr = [np.array([i / box_lengths[0], j / box_lengths[1], k / box_lengths[2]])\n",
    "                 for i in range(max_k_harmonics[0] + 1)\n",
    "                 for j in range(max_k_harmonics[1] + 1)\n",
    "                 for k in range(max_k_harmonics[2] + 1)]\n",
    "        harmonics = [np.array([i, j, k], dtype=np.int)\n",
    "                     for i in range(max_k_harmonics[0] + 1)\n",
    "                     for j in range(max_k_harmonics[1] + 1)\n",
    "                     for k in range(max_k_harmonics[2] + 1)]\n",
    "    elif angle_averaging == 'principal_axis':\n",
    "        # The first value of k_arr = [1, 0, 0]\n",
    "        first_non_zero = 0\n",
    "        # Calculate the k vectors along the principal axis only\n",
    "        k_arr = [np.array([i / box_lengths[0], 0, 0]) for i in range(1, max_k_harmonics[0] + 1)]\n",
    "        harmonics = [np.array([i, 0, 0], dtype=np.int) for i in range(1, max_k_harmonics[0] + 1)]\n",
    "        k_arr = np.append(k_arr,\n",
    "                          [np.array([0, i / box_lengths[1], 0]) for i in range(1, max_k_harmonics[1] + 1)],\n",
    "                          axis=0)\n",
    "        harmonics = np.append(harmonics,\n",
    "                              [np.array([0, i, 0], dtype=np.int) for i in range(1, max_k_harmonics[1] + 1)],\n",
    "                              axis=0)\n",
    "\n",
    "        k_arr = np.append(k_arr,\n",
    "                          [np.array([0, 0, i / box_lengths[2]]) for i in range(1, max_k_harmonics[2] + 1)],\n",
    "                          axis=0)\n",
    "        harmonics = np.append(harmonics,\n",
    "                              [np.array([0, 0, i], dtype=np.int) for i in range(1, max_k_harmonics[2] + 1)],\n",
    "                              axis=0)\n",
    "\n",
    "    elif angle_averaging == 'custom':\n",
    "        # The first value of k_arr = [0, 0, 0]\n",
    "        first_non_zero = 1\n",
    "        # Obtain all possible permutations of the wave number arrays up to max_aa_harmonics included\n",
    "        k_arr = [np.array([i / box_lengths[0],\n",
    "                           j / box_lengths[1],\n",
    "                           k / box_lengths[2]]) for i in range(max_aa_harmonics[0] + 1)\n",
    "                 for j in range(max_aa_harmonics[1] + 1)\n",
    "                 for k in range(max_aa_harmonics[2] + 1)]\n",
    "        # Append the rest of k values calculated from principal axis\n",
    "        k_arr = np.append(\n",
    "            k_arr,\n",
    "            [np.array([i / box_lengths[0], 0, 0]) for i in range(max_aa_harmonics[0] + 1, max_k_harmonics[0] + 1)],\n",
    "            axis=0)\n",
    "        k_arr = np.append(\n",
    "            k_arr,\n",
    "            [np.array([0, i / box_lengths[1], 0]) for i in range(max_aa_harmonics[1] + 1, max_k_harmonics[1] + 1)],\n",
    "            axis=0)\n",
    "        k_arr = np.append(\n",
    "            k_arr,\n",
    "            [np.array([0, 0, i / box_lengths[2]]) for i in range(max_aa_harmonics[2] + 1, max_k_harmonics[2] + 1)],\n",
    "            axis=0)\n",
    "    \n",
    "    k_arr2 = np.copy(k_arr)\n",
    "    # Compute wave number magnitude - don't use |k| (skipping first entry in k_arr)\n",
    "    k_mag = np.sqrt(np.sum(np.array(k_arr) ** 2, axis=1)[..., None])\n",
    "    harm_mag = np.sqrt(np.sum(np.array(harmonics) ** 2, axis=1)[..., None])\n",
    "    \n",
    "    for i, k in enumerate(k_mag[: -1]):\n",
    "\n",
    "        if abs(k - k_mag[i + 1]) < 2e-5:\n",
    "            k_mag[i + 1] = k\n",
    "        \n",
    "    # Add magnitude to wave number array\n",
    "    k_arr = np.concatenate((k_arr, k_mag), 1)\n",
    "    # Add magnitude to wave number array\n",
    "    harmonics = np.concatenate((harmonics, harm_mag), 1)\n",
    "\n",
    "    # Sort from lowest to highest magnitude\n",
    "    ind = np.argsort(k_arr[:, -1])\n",
    "    k_arr = k_arr[ind]\n",
    "    harmonics = harmonics[ind]\n",
    "\n",
    "    # Count how many times a |k| value appears\n",
    "    k_unique, k_counts = np.unique(k_arr[first_non_zero:, -1], return_counts=True)\n",
    "\n",
    "    # Generate a 1D array containing index to be used in S array\n",
    "    k_index = np.repeat(range(len(k_counts)), k_counts)[..., None]\n",
    "\n",
    "    # Add index to k_array\n",
    "    k_arr = np.concatenate((k_arr[int(first_non_zero):, :], k_index), 1)\n",
    "    harmonics = np.concatenate((harmonics[int(first_non_zero):, :], k_index), 1)\n",
    "\n",
    "    return k_arr, k_counts, k_unique, harmonics, k_arr2"
   ]
  },
  {
   "cell_type": "code",
   "execution_count": 31,
   "id": "appropriate-executive",
   "metadata": {
    "scrolled": false
   },
   "outputs": [
    {
     "name": "stdout",
     "output_type": "stream",
     "text": [
      "3.95210367165563e-09\n"
     ]
    }
   ],
   "source": [
    "print(postproc.parameters.box_lengths[2])\n",
    "k_list, k_counts, k_unique, harmonics, k_arr2 = kspace_setup(\n",
    "    [3.9521036716556303e-10, 3.9521036716556303e-10, 3.9521036716556303e-10],\n",
    "    'full', \n",
    "    [5,5,5],\n",
    "    [5,5,5]\n",
    ")"
   ]
  },
  {
   "cell_type": "code",
   "execution_count": 50,
   "id": "twelve-jones",
   "metadata": {},
   "outputs": [
    {
     "name": "stdout",
     "output_type": "stream",
     "text": [
      "0 [0.]\n",
      "1 [2.530298e+09]\n",
      "2 [5.06059599e+09]\n",
      "3 [7.59089399e+09]\n",
      "4 [1.0121192e+10]\n",
      "5 [1.265149e+10]\n",
      "6 [2.530298e+09]\n",
      "7 [3.57838174e+09]\n",
      "8 [5.65791832e+09]\n",
      "9 [8.00150483e+09]\n",
      "10 [1.04326859e+10]\n",
      "11 [1.29020389e+10]\n",
      "12 [5.06059599e+09]\n",
      "13 [5.65791832e+09]\n",
      "14 [7.15676349e+09]\n",
      "15 [9.12311917e+09]\n",
      "16 [1.13158366e+10]\n",
      "17 [1.36260717e+10]\n",
      "18 [7.59089399e+09]\n",
      "19 [8.00150483e+09]\n",
      "20 [9.12311917e+09]\n",
      "21 [1.07351452e+10]\n",
      "22 [1.265149e+10]\n",
      "23 [1.47540459e+10]\n",
      "24 [1.0121192e+10]\n",
      "25 [1.04326859e+10]\n",
      "26 [1.13158366e+10]\n",
      "27 [1.265149e+10]\n",
      "28 [1.4313527e+10]\n",
      "29 [1.62018124e+10]\n",
      "30 [1.265149e+10]\n",
      "31 [1.29020389e+10]\n",
      "32 [1.36260717e+10]\n",
      "33 [1.47540459e+10]\n",
      "34 [1.62018124e+10]\n",
      "35 [1.78919087e+10]\n",
      "36 [2.530298e+09]\n",
      "37 [3.57838174e+09]\n",
      "38 [5.65791832e+09]\n",
      "39 [8.00150483e+09]\n",
      "40 [1.04326859e+10]\n",
      "41 [1.29020389e+10]\n",
      "42 [3.57838174e+09]\n",
      "43 [4.38260469e+09]\n",
      "44 [6.19793899e+09]\n",
      "45 [8.39204906e+09]\n",
      "46 [1.07351452e+10]\n",
      "47 [1.31478141e+10]\n",
      "48 [5.65791832e+09]\n",
      "49 [6.19793899e+09]\n",
      "50 [7.59089399e+09]\n",
      "51 [9.46750819e+09]\n",
      "52 [1.15952821e+10]\n",
      "53 [1.38590129e+10]\n",
      "54 [8.00150483e+09]\n",
      "55 [8.39204906e+09]\n",
      "56 [9.46750819e+09]\n",
      "57 [1.10293133e+10]\n",
      "58 [1.29020389e+10]\n",
      "59 [1.49694448e+10]\n",
      "60 [1.04326859e+10]\n",
      "61 [1.07351452e+10]\n",
      "62 [1.15952821e+10]\n",
      "63 [1.29020389e+10]\n",
      "64 [1.45354554e+10]\n",
      "65 [1.63982052e+10]\n",
      "66 [1.29020389e+10]\n",
      "67 [1.31478141e+10]\n",
      "68 [1.38590129e+10]\n",
      "69 [1.49694448e+10]\n",
      "70 [1.63982052e+10]\n",
      "71 [1.8069942e+10]\n",
      "72 [5.06059599e+09]\n",
      "73 [5.65791832e+09]\n",
      "74 [7.15676349e+09]\n",
      "75 [9.12311917e+09]\n",
      "76 [1.13158366e+10]\n",
      "77 [1.36260717e+10]\n",
      "78 [5.65791832e+09]\n",
      "79 [6.19793899e+09]\n",
      "80 [7.59089399e+09]\n",
      "81 [9.46750819e+09]\n",
      "82 [1.15952821e+10]\n",
      "83 [1.38590129e+10]\n",
      "84 [7.15676349e+09]\n",
      "85 [7.59089399e+09]\n",
      "86 [8.76520937e+09]\n",
      "87 [1.04326859e+10]\n",
      "88 [1.2395878e+10]\n",
      "89 [1.45354554e+10]\n",
      "90 [9.12311917e+09]\n",
      "91 [9.46750819e+09]\n",
      "92 [1.04326859e+10]\n",
      "93 [1.18681496e+10]\n",
      "94 [1.36260717e+10]\n",
      "95 [1.55978044e+10]\n",
      "96 [1.13158366e+10]\n",
      "97 [1.15952821e+10]\n",
      "98 [1.2395878e+10]\n",
      "99 [1.36260717e+10]\n",
      "100 [1.5181788e+10]\n",
      "101 [1.6973755e+10]\n",
      "102 [1.36260717e+10]\n",
      "103 [1.38590129e+10]\n",
      "104 [1.45354554e+10]\n",
      "105 [1.55978044e+10]\n",
      "106 [1.6973755e+10]\n",
      "107 [1.8593817e+10]\n",
      "108 [7.59089399e+09]\n",
      "109 [8.00150483e+09]\n",
      "110 [9.12311917e+09]\n",
      "111 [1.07351452e+10]\n",
      "112 [1.265149e+10]\n",
      "113 [1.47540459e+10]\n",
      "114 [8.00150483e+09]\n",
      "115 [8.39204906e+09]\n",
      "116 [9.46750819e+09]\n",
      "117 [1.10293133e+10]\n",
      "118 [1.29020389e+10]\n",
      "119 [1.49694448e+10]\n",
      "120 [9.12311917e+09]\n",
      "121 [9.46750819e+09]\n",
      "122 [1.04326859e+10]\n",
      "123 [1.18681496e+10]\n",
      "124 [1.36260717e+10]\n",
      "125 [1.55978044e+10]\n",
      "126 [1.07351452e+10]\n",
      "127 [1.10293133e+10]\n",
      "128 [1.18681496e+10]\n",
      "129 [1.31478141e+10]\n",
      "130 [1.47540459e+10]\n",
      "131 [1.65922736e+10]\n",
      "132 [1.265149e+10]\n",
      "133 [1.29020389e+10]\n",
      "134 [1.36260717e+10]\n",
      "135 [1.47540459e+10]\n",
      "136 [1.62018124e+10]\n",
      "137 [1.78919087e+10]\n",
      "138 [1.47540459e+10]\n",
      "139 [1.49694448e+10]\n",
      "140 [1.55978044e+10]\n",
      "141 [1.65922736e+10]\n",
      "142 [1.78919087e+10]\n",
      "143 [1.94355877e+10]\n",
      "144 [1.0121192e+10]\n",
      "145 [1.04326859e+10]\n",
      "146 [1.13158366e+10]\n",
      "147 [1.265149e+10]\n",
      "148 [1.4313527e+10]\n",
      "149 [1.62018124e+10]\n",
      "150 [1.04326859e+10]\n",
      "151 [1.07351452e+10]\n",
      "152 [1.15952821e+10]\n",
      "153 [1.29020389e+10]\n",
      "154 [1.45354554e+10]\n",
      "155 [1.63982052e+10]\n",
      "156 [1.13158366e+10]\n",
      "157 [1.15952821e+10]\n",
      "158 [1.2395878e+10]\n",
      "159 [1.36260717e+10]\n",
      "160 [1.5181788e+10]\n",
      "161 [1.6973755e+10]\n",
      "162 [1.265149e+10]\n",
      "163 [1.29020389e+10]\n",
      "164 [1.36260717e+10]\n",
      "165 [1.47540459e+10]\n",
      "166 [1.62018124e+10]\n",
      "167 [1.78919087e+10]\n",
      "168 [1.4313527e+10]\n",
      "169 [1.45354554e+10]\n",
      "170 [1.5181788e+10]\n",
      "171 [1.62018124e+10]\n",
      "172 [1.75304187e+10]\n",
      "173 [1.91033309e+10]\n",
      "174 [1.62018124e+10]\n",
      "175 [1.63982052e+10]\n",
      "176 [1.6973755e+10]\n",
      "177 [1.78919087e+10]\n",
      "178 [1.91033309e+10]\n",
      "179 [2.05562381e+10]\n",
      "180 [1.265149e+10]\n",
      "181 [1.29020389e+10]\n",
      "182 [1.36260717e+10]\n",
      "183 [1.47540459e+10]\n",
      "184 [1.62018124e+10]\n",
      "185 [1.78919087e+10]\n",
      "186 [1.29020389e+10]\n",
      "187 [1.31478141e+10]\n",
      "188 [1.38590129e+10]\n",
      "189 [1.49694448e+10]\n",
      "190 [1.63982052e+10]\n",
      "191 [1.8069942e+10]\n",
      "192 [1.36260717e+10]\n",
      "193 [1.38590129e+10]\n",
      "194 [1.45354554e+10]\n",
      "195 [1.55978044e+10]\n",
      "196 [1.6973755e+10]\n",
      "197 [1.8593817e+10]\n",
      "198 [1.47540459e+10]\n",
      "199 [1.49694448e+10]\n",
      "200 [1.55978044e+10]\n",
      "201 [1.65922736e+10]\n",
      "202 [1.78919087e+10]\n",
      "203 [1.94355877e+10]\n",
      "204 [1.62018124e+10]\n",
      "205 [1.63982052e+10]\n",
      "206 [1.6973755e+10]\n",
      "207 [1.78919087e+10]\n",
      "208 [1.91033309e+10]\n",
      "209 [2.05562381e+10]\n",
      "210 [1.78919087e+10]\n",
      "211 [1.8069942e+10]\n",
      "212 [1.8593817e+10]\n",
      "213 [1.94355877e+10]\n",
      "214 [2.05562381e+10]\n"
     ]
    }
   ],
   "source": [
    "# Compute wave number magnitude - don't use |k| (skipping first entry in k_arr)\n",
    "k_mag2 = np.sqrt(np.sum(np.array(k_arr2) ** 2, axis=1)[..., None])\n",
    "for i, k in enumerate(k_mag2[: -1]):\n",
    "    print(i, k)\n",
    "    if abs(k - k_mag2[i + 1]) < 2e-5:\n",
    "        k_mag2[i + 1] = k\n",
    "# # Add magnitude to wave number array\n",
    "# k_arr3 = np.concatenate((k_arr2, k_mag2), 1)\n",
    "\n",
    "# # Sort from lowest to highest magnitude\n",
    "# ind = np.argsort(k_arr3[:, -1])\n",
    "# k_arr3 = k_arr3[ind]\n",
    "\n",
    "# # Count how many times a |k| value appears\n",
    "# k_unique2, k_counts2 = np.unique(k_mag2[1:], return_counts=True)"
   ]
  },
  {
   "cell_type": "code",
   "execution_count": 36,
   "id": "stone-causing",
   "metadata": {},
   "outputs": [
    {
     "data": {
      "text/plain": [
       "array([2.53029800e+09, 3.57838174e+09, 4.38260469e+09, 5.06059599e+09,\n",
       "       5.65791832e+09, 6.19793899e+09, 7.15676349e+09, 7.59089399e+09,\n",
       "       8.00150483e+09, 8.39204906e+09, 8.76520937e+09, 9.12311917e+09,\n",
       "       9.46750819e+09, 1.01211920e+10, 1.04326859e+10, 1.04326859e+10,\n",
       "       1.07351452e+10, 1.10293133e+10, 1.13158366e+10, 1.15952821e+10,\n",
       "       1.18681496e+10, 1.23958780e+10, 1.26514900e+10, 1.29020389e+10,\n",
       "       1.31478141e+10, 1.36260717e+10, 1.38590129e+10, 1.43135270e+10,\n",
       "       1.45354554e+10, 1.47540459e+10, 1.49694448e+10, 1.51817880e+10,\n",
       "       1.55978044e+10, 1.62018124e+10, 1.63982052e+10, 1.65922736e+10,\n",
       "       1.69737550e+10, 1.75304187e+10, 1.78919087e+10, 1.80699420e+10,\n",
       "       1.85938170e+10, 1.91033309e+10, 1.94355877e+10, 2.05562381e+10,\n",
       "       2.19130234e+10])"
      ]
     },
     "execution_count": 36,
     "metadata": {},
     "output_type": "execute_result"
    }
   ],
   "source": [
    "a_ws = 1.1379734387588278e-11\n",
    "k_unique"
   ]
  },
  {
   "cell_type": "code",
   "execution_count": 47,
   "id": "brief-rating",
   "metadata": {},
   "outputs": [
    {
     "name": "stdout",
     "output_type": "stream",
     "text": [
      "14969444818.79249\n",
      "15181787975.43146\n",
      "15181787975.43146\n",
      "15181787975.43146\n",
      "15597804397.64262\n"
     ]
    }
   ],
   "source": [
    "print(k_list[155,-2])\n",
    "print(k_list[156,-2])\n",
    "print(k_list[157,-2])\n",
    "print(k_list[158,-2])\n",
    "print(k_list[159,-2])"
   ]
  },
  {
   "cell_type": "code",
   "execution_count": 44,
   "id": "imposed-allowance",
   "metadata": {},
   "outputs": [
    {
     "data": {
      "text/plain": [
       "15181787975.43146"
      ]
     },
     "execution_count": 44,
     "metadata": {},
     "output_type": "execute_result"
    }
   ],
   "source": [
    "k_list[156][-2]"
   ]
  },
  {
   "cell_type": "code",
   "execution_count": 16,
   "id": "complete-adult",
   "metadata": {},
   "outputs": [
    {
     "data": {
      "text/plain": [
       "array([1.        , 1.        , 2.        , 2.44948974, 5.        ])"
      ]
     },
     "execution_count": 16,
     "metadata": {},
     "output_type": "execute_result"
    }
   ],
   "source": [
    "harmonics[16]"
   ]
  },
  {
   "cell_type": "code",
   "execution_count": 17,
   "id": "hired-fishing",
   "metadata": {},
   "outputs": [
    {
     "name": "stdout",
     "output_type": "stream",
     "text": [
      "2.449489742783178\n",
      "2.449489742783178\n"
     ]
    }
   ],
   "source": [
    "print(harmonics[16][-2])\n",
    "print(harmonics[17][-2])"
   ]
  },
  {
   "cell_type": "code",
   "execution_count": 11,
   "id": "pressed-discrimination",
   "metadata": {},
   "outputs": [
    {
     "data": {
      "text/plain": [
       "619793898.7154729"
      ]
     },
     "execution_count": 11,
     "metadata": {},
     "output_type": "execute_result"
    }
   ],
   "source": [
    "k_list[17][-2]"
   ]
  },
  {
   "cell_type": "code",
   "execution_count": null,
   "id": "reported-opera",
   "metadata": {},
   "outputs": [],
   "source": []
  }
 ],
 "metadata": {
  "kernelspec": {
   "display_name": "Python 3",
   "language": "python",
   "name": "python3"
  },
  "language_info": {
   "codemirror_mode": {
    "name": "ipython",
    "version": 3
   },
   "file_extension": ".py",
   "mimetype": "text/x-python",
   "name": "python",
   "nbconvert_exporter": "python",
   "pygments_lexer": "ipython3",
   "version": "3.7.10"
  }
 },
 "nbformat": 4,
 "nbformat_minor": 5
}
