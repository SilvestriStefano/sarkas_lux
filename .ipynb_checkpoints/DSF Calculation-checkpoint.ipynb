{
 "cells": [
  {
   "cell_type": "code",
   "execution_count": 1,
   "metadata": {
    "ExecuteTime": {
     "end_time": "2020-06-09T13:33:37.308293Z",
     "start_time": "2020-06-09T13:33:36.660116Z"
    }
   },
   "outputs": [
    {
     "name": "stdout",
     "output_type": "stream",
     "text": [
      "Using matplotlib backend: Qt5Agg\n",
      "Populating the interactive namespace from numpy and matplotlib\n"
     ]
    }
   ],
   "source": [
    "%pylab\n",
    "%matplotlib inline\n",
    "\n",
    "import pandas as pd\n",
    "import time\n",
    "from tqdm import tqdm\n",
    "import matplotlib.colors as colors\n",
    "from matplotlib.colors import LogNorm\n",
    "import sys\n",
    "import os\n",
    "# Sarkas specific imports\n",
    "sys.path.append(os.path.abspath(os.path.join('src')))\n",
    "from S_params import Params\n",
    "import S_postprocessing as PostProc\n",
    "    "
   ]
  },
  {
   "cell_type": "code",
   "execution_count": 2,
   "metadata": {
    "ExecuteTime": {
     "end_time": "2020-06-09T13:34:06.188297Z",
     "start_time": "2020-06-09T13:34:00.691889Z"
    }
   },
   "outputs": [],
   "source": [
    "#Grab parameters from input file\n",
    "input_file = 'examples/coulomb_cgs.yaml'\n",
    "params = Params()\n",
    "params.setup(input_file)"
   ]
  },
  {
   "cell_type": "code",
   "execution_count": 3,
   "metadata": {
    "ExecuteTime": {
     "end_time": "2020-06-09T13:34:09.670889Z",
     "start_time": "2020-06-09T13:34:09.648019Z"
    }
   },
   "outputs": [],
   "source": [
    "params.PostProcessing.dsf_no_ka_values = [5, 5, 5]\n",
    "DSF = PostProc.DynamicStructureFactor(params)\n",
    "DSF.parse()\n",
    "Skw = np.array(DSF.dataframe.iloc[:,1:])\n",
    "w_array = np.array(DSF.dataframe[\"Frequencies\"])/DSF.wp"
   ]
  },
  {
   "cell_type": "code",
   "execution_count": 4,
   "metadata": {
    "ExecuteTime": {
     "end_time": "2020-06-09T13:36:59.309134Z",
     "start_time": "2020-06-09T13:36:59.305828Z"
    }
   },
   "outputs": [],
   "source": [
    "def load_from_restart(fldr, it):\n",
    "    \"\"\"\n",
    "    Load particles' data from checkpoints.\n",
    "\n",
    "    Parameters\n",
    "    ----------\n",
    "    fldr : str\n",
    "        Folder containing dumps.\n",
    "\n",
    "    it : int\n",
    "        Timestep.\n",
    "\n",
    "    Returns\n",
    "    -------\n",
    "    data : dict\n",
    "        Particles' data.\n",
    "    \"\"\"\n",
    "\n",
    "    file_name = fldr + \"/Particles_Data/\" + \"S_checkpoint_\" + str(it) + \".npz\"\n",
    "    data = np.load(file_name, allow_pickle=True)\n",
    "    return data"
   ]
  },
  {
   "cell_type": "code",
   "execution_count": null,
   "metadata": {},
   "outputs": [],
   "source": [
    "pos = np.empty((DSF.no_dumps, DSF.tot_no_ptcls, 3))\n",
    "    dump = int(it * self.prod_dump_step)\n",
    "    data = load_from_restart(self.fldr, dump)\n",
    "    pos[it, 0, :] = data[\"pos\"][:, 0]\n",
    "    pos[it, 1, :] = data[\"pos\"][:, 1]\n",
    "    pos[it, 2, :] = data[\"pos\"][:, 2]\n"
   ]
  }
 ],
 "metadata": {
  "kernelspec": {
   "display_name": "Python 3",
   "language": "python",
   "name": "python3"
  },
  "language_info": {
   "codemirror_mode": {
    "name": "ipython",
    "version": 3
   },
   "file_extension": ".py",
   "mimetype": "text/x-python",
   "name": "python",
   "nbconvert_exporter": "python",
   "pygments_lexer": "ipython3",
   "version": "3.7.7"
  }
 },
 "nbformat": 4,
 "nbformat_minor": 4
}
